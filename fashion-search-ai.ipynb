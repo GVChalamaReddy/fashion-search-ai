{
 "cells": [
  {
   "cell_type": "markdown",
   "metadata": {},
   "source": [
    "## 1. Install and Import the Required Libraries"
   ]
  },
  {
   "cell_type": "code",
   "execution_count": 1,
   "metadata": {
    "execution": {
     "iopub.execute_input": "2025-10-29T02:10:29.564489Z",
     "iopub.status.busy": "2025-10-29T02:10:29.564275Z",
     "iopub.status.idle": "2025-10-29T02:12:16.697285Z",
     "shell.execute_reply": "2025-10-29T02:12:16.696474Z",
     "shell.execute_reply.started": "2025-10-29T02:10:29.564470Z"
    }
   },
   "outputs": [
    {
     "name": "stdout",
     "output_type": "stream",
     "text": [
      "\u001b[2K     \u001b[90m━━━━━━━━━━━━━━━━━━━━━━━━━━━━━━━━━━━━━━━━\u001b[0m \u001b[32m67.3/67.3 kB\u001b[0m \u001b[31m2.9 MB/s\u001b[0m eta \u001b[36m0:00:00\u001b[0m\n",
      "\u001b[?25h  Installing build dependencies ... \u001b[?25l\u001b[?25hdone\n",
      "  Getting requirements to build wheel ... \u001b[?25l\u001b[?25hdone\n",
      "  Preparing metadata (pyproject.toml) ... \u001b[?25l\u001b[?25hdone\n",
      "\u001b[2K   \u001b[90m━━━━━━━━━━━━━━━━━━━━━━━━━━━━━━━━━━━━━━━━\u001b[0m \u001b[32m1.0/1.0 MB\u001b[0m \u001b[31m20.1 MB/s\u001b[0m eta \u001b[36m0:00:00\u001b[0m00:01\u001b[0m\n",
      "\u001b[2K   \u001b[90m━━━━━━━━━━━━━━━━━━━━━━━━━━━━━━━━━━━━━━━━\u001b[0m \u001b[32m20.7/20.7 MB\u001b[0m \u001b[31m63.4 MB/s\u001b[0m eta \u001b[36m0:00:00\u001b[0m00:01\u001b[0m00:01\u001b[0mm\n",
      "\u001b[2K   \u001b[90m━━━━━━━━━━━━━━━━━━━━━━━━━━━━━━━━━━━━━━━━\u001b[0m \u001b[32m488.0/488.0 kB\u001b[0m \u001b[31m30.0 MB/s\u001b[0m eta \u001b[36m0:00:00\u001b[0m\n",
      "\u001b[2K   \u001b[90m━━━━━━━━━━━━━━━━━━━━━━━━━━━━━━━━━━━━━━━━\u001b[0m \u001b[32m278.2/278.2 kB\u001b[0m \u001b[31m17.6 MB/s\u001b[0m eta \u001b[36m0:00:00\u001b[0m\n",
      "\u001b[2K   \u001b[90m━━━━━━━━━━━━━━━━━━━━━━━━━━━━━━━━━━━━━━━━\u001b[0m \u001b[32m2.0/2.0 MB\u001b[0m \u001b[31m70.7 MB/s\u001b[0m eta \u001b[36m0:00:00\u001b[0m\n",
      "\u001b[2K   \u001b[90m━━━━━━━━━━━━━━━━━━━━━━━━━━━━━━━━━━━━━━━━\u001b[0m \u001b[32m103.1/103.1 kB\u001b[0m \u001b[31m7.1 MB/s\u001b[0m eta \u001b[36m0:00:00\u001b[0m\n",
      "\u001b[2K   \u001b[90m━━━━━━━━━━━━━━━━━━━━━━━━━━━━━━━━━━━━━━━━\u001b[0m \u001b[32m17.4/17.4 MB\u001b[0m \u001b[31m71.6 MB/s\u001b[0m eta \u001b[36m0:00:00\u001b[0m:00:01\u001b[0m00:01\u001b[0m\n",
      "\u001b[2K   \u001b[90m━━━━━━━━━━━━━━━━━━━━━━━━━━━━━━━━━━━━━━━━\u001b[0m \u001b[32m72.5/72.5 kB\u001b[0m \u001b[31m4.7 MB/s\u001b[0m eta \u001b[36m0:00:00\u001b[0m\n",
      "\u001b[2K   \u001b[90m━━━━━━━━━━━━━━━━━━━━━━━━━━━━━━━━━━━━━━━━\u001b[0m \u001b[32m132.3/132.3 kB\u001b[0m \u001b[31m10.6 MB/s\u001b[0m eta \u001b[36m0:00:00\u001b[0m\n",
      "\u001b[2K   \u001b[90m━━━━━━━━━━━━━━━━━━━━━━━━━━━━━━━━━━━━━━━━\u001b[0m \u001b[32m65.9/65.9 kB\u001b[0m \u001b[31m4.1 MB/s\u001b[0m eta \u001b[36m0:00:00\u001b[0m\n",
      "\u001b[2K   \u001b[90m━━━━━━━━━━━━━━━━━━━━━━━━━━━━━━━━━━━━━━━━\u001b[0m \u001b[32m208.0/208.0 kB\u001b[0m \u001b[31m15.8 MB/s\u001b[0m eta \u001b[36m0:00:00\u001b[0m\n",
      "\u001b[2K   \u001b[90m━━━━━━━━━━━━━━━━━━━━━━━━━━━━━━━━━━━━━━━━\u001b[0m \u001b[32m105.4/105.4 kB\u001b[0m \u001b[31m7.7 MB/s\u001b[0m eta \u001b[36m0:00:00\u001b[0m\n",
      "\u001b[2K   \u001b[90m━━━━━━━━━━━━━━━━━━━━━━━━━━━━━━━━━━━━━━━━\u001b[0m \u001b[32m71.4/71.4 kB\u001b[0m \u001b[31m6.3 MB/s\u001b[0m eta \u001b[36m0:00:00\u001b[0m\n",
      "\u001b[2K   \u001b[90m━━━━━━━━━━━━━━━━━━━━━━━━━━━━━━━━━━━━━━━━\u001b[0m \u001b[32m566.1/566.1 kB\u001b[0m \u001b[31m35.1 MB/s\u001b[0m eta \u001b[36m0:00:00\u001b[0m\n",
      "\u001b[2K   \u001b[90m━━━━━━━━━━━━━━━━━━━━━━━━━━━━━━━━━━━━━━━━\u001b[0m \u001b[32m363.4/363.4 MB\u001b[0m \u001b[31m4.8 MB/s\u001b[0m eta \u001b[36m0:00:00\u001b[0m:00:01\u001b[0m00:01\u001b[0m\n",
      "\u001b[2K   \u001b[90m━━━━━━━━━━━━━━━━━━━━━━━━━━━━━━━━━━━━━━━━\u001b[0m \u001b[32m13.8/13.8 MB\u001b[0m \u001b[31m100.4 MB/s\u001b[0m eta \u001b[36m0:00:00\u001b[0m00:01\u001b[0m0:01\u001b[0m\n",
      "\u001b[2K   \u001b[90m━━━━━━━━━━━━━━━━━━━━━━━━━━━━━━━━━━━━━━━━\u001b[0m \u001b[32m24.6/24.6 MB\u001b[0m \u001b[31m71.7 MB/s\u001b[0m eta \u001b[36m0:00:00\u001b[0m:00:01\u001b[0m00:01\u001b[0m\n",
      "\u001b[2K   \u001b[90m━━━━━━━━━━━━━━━━━━━━━━━━━━━━━━━━━━━━━━━━\u001b[0m \u001b[32m883.7/883.7 kB\u001b[0m \u001b[31m44.2 MB/s\u001b[0m eta \u001b[36m0:00:00\u001b[0m\n",
      "\u001b[2K   \u001b[90m━━━━━━━━━━━━━━━━━━━━━━━━━━━━━━━━━━━━━━━━\u001b[0m \u001b[32m664.8/664.8 MB\u001b[0m \u001b[31m2.5 MB/s\u001b[0m eta \u001b[36m0:00:00\u001b[0m:00:01\u001b[0m00:01\u001b[0m\n",
      "\u001b[2K   \u001b[90m━━━━━━━━━━━━━━━━━━━━━━━━━━━━━━━━━━━━━━━━\u001b[0m \u001b[32m211.5/211.5 MB\u001b[0m \u001b[31m7.8 MB/s\u001b[0m eta \u001b[36m0:00:00\u001b[0m:00:01\u001b[0m00:01\u001b[0m\n",
      "\u001b[2K   \u001b[90m━━━━━━━━━━━━━━━━━━━━━━━━━━━━━━━━━━━━━━━━\u001b[0m \u001b[32m56.3/56.3 MB\u001b[0m \u001b[31m26.5 MB/s\u001b[0m eta \u001b[36m0:00:00\u001b[0m00:01\u001b[0mm0:01\u001b[0mm\n",
      "\u001b[2K   \u001b[90m━━━━━━━━━━━━━━━━━━━━━━━━━━━━━━━━━━━━━━━━\u001b[0m \u001b[32m127.9/127.9 MB\u001b[0m \u001b[31m13.5 MB/s\u001b[0m eta \u001b[36m0:00:00\u001b[0m00:01\u001b[0m00:01\u001b[0m\n",
      "\u001b[2K   \u001b[90m━━━━━━━━━━━━━━━━━━━━━━━━━━━━━━━━━━━━━━━━\u001b[0m \u001b[32m207.5/207.5 MB\u001b[0m \u001b[31m4.5 MB/s\u001b[0m eta \u001b[36m0:00:00\u001b[0m:00:01\u001b[0m00:01\u001b[0m\n",
      "\u001b[2K   \u001b[90m━━━━━━━━━━━━━━━━━━━━━━━━━━━━━━━━━━━━━━━━\u001b[0m \u001b[32m21.1/21.1 MB\u001b[0m \u001b[31m87.5 MB/s\u001b[0m eta \u001b[36m0:00:00\u001b[0m:00:01\u001b[0m00:01\u001b[0m\n",
      "\u001b[2K   \u001b[90m━━━━━━━━━━━━━━━━━━━━━━━━━━━━━━━━━━━━━━━━\u001b[0m \u001b[32m456.6/456.6 kB\u001b[0m \u001b[31m30.0 MB/s\u001b[0m eta \u001b[36m0:00:00\u001b[0m\n",
      "\u001b[2K   \u001b[90m━━━━━━━━━━━━━━━━━━━━━━━━━━━━━━━━━━━━━━━━\u001b[0m \u001b[32m323.2/323.2 kB\u001b[0m \u001b[31m20.4 MB/s\u001b[0m eta \u001b[36m0:00:00\u001b[0m\n",
      "\u001b[2K   \u001b[90m━━━━━━━━━━━━━━━━━━━━━━━━━━━━━━━━━━━━━━━━\u001b[0m \u001b[32m128.4/128.4 kB\u001b[0m \u001b[31m9.9 MB/s\u001b[0m eta \u001b[36m0:00:00\u001b[0m\n",
      "\u001b[2K   \u001b[90m━━━━━━━━━━━━━━━━━━━━━━━━━━━━━━━━━━━━━━━━\u001b[0m \u001b[32m3.8/3.8 MB\u001b[0m \u001b[31m72.9 MB/s\u001b[0m eta \u001b[36m0:00:00\u001b[0m:00:01\u001b[0m\n",
      "\u001b[2K   \u001b[90m━━━━━━━━━━━━━━━━━━━━━━━━━━━━━━━━━━━━━━━━\u001b[0m \u001b[32m456.1/456.1 kB\u001b[0m \u001b[31m28.1 MB/s\u001b[0m eta \u001b[36m0:00:00\u001b[0m\n",
      "\u001b[2K   \u001b[90m━━━━━━━━━━━━━━━━━━━━━━━━━━━━━━━━━━━━━━━━\u001b[0m \u001b[32m46.0/46.0 kB\u001b[0m \u001b[31m2.9 MB/s\u001b[0m eta \u001b[36m0:00:00\u001b[0m\n",
      "\u001b[2K   \u001b[90m━━━━━━━━━━━━━━━━━━━━━━━━━━━━━━━━━━━━━━━━\u001b[0m \u001b[32m86.8/86.8 kB\u001b[0m \u001b[31m5.0 MB/s\u001b[0m eta \u001b[36m0:00:00\u001b[0m\n",
      "\u001b[?25h  Building wheel for pypika (pyproject.toml) ... \u001b[?25l\u001b[?25hdone\n",
      "\u001b[31mERROR: pip's dependency resolver does not currently take into account all the packages that are installed. This behaviour is the source of the following dependency conflicts.\n",
      "bigframes 2.12.0 requires google-cloud-bigquery-storage<3.0.0,>=2.30.0, which is not installed.\n",
      "datasets 4.1.1 requires pyarrow>=21.0.0, but you have pyarrow 19.0.1 which is incompatible.\n",
      "google-api-core 1.34.1 requires protobuf!=3.20.0,!=3.20.1,!=4.21.0,!=4.21.1,!=4.21.2,!=4.21.3,!=4.21.4,!=4.21.5,<4.0.0dev,>=3.19.5, but you have protobuf 6.33.0 which is incompatible.\n",
      "google-cloud-translate 3.12.1 requires protobuf!=3.20.0,!=3.20.1,!=4.21.0,!=4.21.1,!=4.21.2,!=4.21.3,!=4.21.4,!=4.21.5,<5.0.0dev,>=3.19.5, but you have protobuf 6.33.0 which is incompatible.\n",
      "google-cloud-bigtable 2.32.0 requires google-api-core[grpc]<3.0.0,>=2.17.0, but you have google-api-core 1.34.1 which is incompatible.\n",
      "google-colab 1.0.0 requires google-auth==2.38.0, but you have google-auth 2.40.3 which is incompatible.\n",
      "google-colab 1.0.0 requires notebook==6.5.7, but you have notebook 6.5.4 which is incompatible.\n",
      "google-colab 1.0.0 requires pandas==2.2.2, but you have pandas 2.2.3 which is incompatible.\n",
      "google-colab 1.0.0 requires requests==2.32.3, but you have requests 2.32.5 which is incompatible.\n",
      "google-colab 1.0.0 requires tornado==6.4.2, but you have tornado 6.5.2 which is incompatible.\n",
      "bigframes 2.12.0 requires google-cloud-bigquery[bqstorage,pandas]>=3.31.0, but you have google-cloud-bigquery 3.25.0 which is incompatible.\n",
      "bigframes 2.12.0 requires rich<14,>=12.4.4, but you have rich 14.1.0 which is incompatible.\n",
      "libcugraph-cu12 25.6.0 requires libraft-cu12==25.6.*, but you have libraft-cu12 25.2.0 which is incompatible.\n",
      "gradio 5.38.1 requires pydantic<2.12,>=2.0, but you have pydantic 2.12.0a1 which is incompatible.\n",
      "google-ai-generativelanguage 0.6.15 requires protobuf!=4.21.0,!=4.21.1,!=4.21.2,!=4.21.3,!=4.21.4,!=4.21.5,<6.0.0dev,>=3.20.2, but you have protobuf 6.33.0 which is incompatible.\n",
      "pydrive2 1.21.3 requires cryptography<44, but you have cryptography 46.0.1 which is incompatible.\n",
      "pydrive2 1.21.3 requires pyOpenSSL<=24.2.1,>=19.1.0, but you have pyopenssl 25.3.0 which is incompatible.\n",
      "pandas-gbq 0.29.2 requires google-api-core<3.0.0,>=2.10.2, but you have google-api-core 1.34.1 which is incompatible.\n",
      "google-cloud-storage 2.19.0 requires google-api-core<3.0.0dev,>=2.15.0, but you have google-api-core 1.34.1 which is incompatible.\n",
      "tensorflow 2.18.0 requires protobuf!=4.21.0,!=4.21.1,!=4.21.2,!=4.21.3,!=4.21.4,!=4.21.5,<6.0.0dev,>=3.20.3, but you have protobuf 6.33.0 which is incompatible.\n",
      "pylibcugraph-cu12 25.6.0 requires pylibraft-cu12==25.6.*, but you have pylibraft-cu12 25.2.0 which is incompatible.\n",
      "pylibcugraph-cu12 25.6.0 requires rmm-cu12==25.6.*, but you have rmm-cu12 25.2.0 which is incompatible.\n",
      "jupyter-kernel-gateway 2.5.2 requires jupyter-client<8.0,>=5.2.0, but you have jupyter-client 8.6.3 which is incompatible.\n",
      "dataproc-spark-connect 0.8.3 requires google-api-core>=2.19, but you have google-api-core 1.34.1 which is incompatible.\n",
      "gcsfs 2025.3.0 requires fsspec==2025.3.0, but you have fsspec 2025.9.0 which is incompatible.\u001b[0m\u001b[31m\n",
      "\u001b[0m"
     ]
    }
   ],
   "source": [
    "# Install all the required libraries\n",
    "!pip install -U -q openai chromadb sentence-transformers"
   ]
  },
  {
   "cell_type": "code",
   "execution_count": 3,
   "metadata": {
    "execution": {
     "iopub.execute_input": "2025-10-29T02:15:39.246681Z",
     "iopub.status.busy": "2025-10-29T02:15:39.246130Z",
     "iopub.status.idle": "2025-10-29T02:15:39.251412Z",
     "shell.execute_reply": "2025-10-29T02:15:39.250636Z",
     "shell.execute_reply.started": "2025-10-29T02:15:39.246661Z"
    }
   },
   "outputs": [],
   "source": [
    "# Import all the required Libraries\n",
    "\n",
    "from pathlib import Path\n",
    "import pandas as pd\n",
    "from operator import itemgetter\n",
    "import json\n",
    "import openai\n",
    "import ast\n",
    "import time\n",
    "import requests\n",
    "from chromadb import Client, Settings\n",
    "from sentence_transformers import SentenceTransformer, CrossEncoder\n",
    "from typing import List, Dict, Any, Tuple\n",
    "from chromadb.utils.embedding_functions import OpenAIEmbeddingFunction \n",
    "from bs4 import BeautifulSoup\n",
    "import re\n",
    "import hashlib\n",
    "from datetime import datetime, timedelta\n",
    "import numpy as np\n",
    "from openai import OpenAI"
   ]
  },
  {
   "cell_type": "markdown",
   "metadata": {},
   "source": [
    "## Layer 1: The Embedding Layer (Processing, Cleaning, Chunking)"
   ]
  },
  {
   "cell_type": "markdown",
   "metadata": {},
   "source": [
    "### Data Processing and Cleaning"
   ]
  },
  {
   "cell_type": "code",
   "execution_count": 4,
   "metadata": {
    "_cell_guid": "b1076dfc-b9ad-4769-8c92-a6c4dae69d19",
    "_uuid": "8f2839f25d086af736a60e9eeb907d3b93b6e0e5",
    "execution": {
     "iopub.execute_input": "2025-10-29T02:15:41.691746Z",
     "iopub.status.busy": "2025-10-29T02:15:41.691187Z",
     "iopub.status.idle": "2025-10-29T02:15:41.695052Z",
     "shell.execute_reply": "2025-10-29T02:15:41.694277Z",
     "shell.execute_reply.started": "2025-10-29T02:15:41.691722Z"
    }
   },
   "outputs": [],
   "source": [
    "# Myntra fashion data set path\n",
    "file_path = \"/kaggle/input/myntra-fashion-product-dataset/Fashion Dataset v2.csv\""
   ]
  },
  {
   "cell_type": "code",
   "execution_count": 36,
   "metadata": {
    "execution": {
     "iopub.execute_input": "2025-10-29T02:21:27.145562Z",
     "iopub.status.busy": "2025-10-29T02:21:27.144967Z",
     "iopub.status.idle": "2025-10-29T02:21:27.150102Z",
     "shell.execute_reply": "2025-10-29T02:21:27.149341Z",
     "shell.execute_reply.started": "2025-10-29T02:21:27.145539Z"
    }
   },
   "outputs": [],
   "source": [
    "# --- GLOBAL CONFIGURATION (Simulating OpenAI RAG Stack) ---\n",
    "# Embedding Model (Bi-Encoder): OpenAI's model for quality semantic retrieval\n",
    "EMBEDDING_MODEL_NAME = 'text-embedding-ada-002' \n",
    "# Cross-Encoder (Re-ranker): HuggingFace model for post-retrieval ranking\n",
    "RE_RANKER_MODEL_NAME = 'cross-encoder/ms-marco-MiniLM-L-6-v2' \n",
    "# LLM (Generator): OpenAI's powerful model for synthesis\n",
    "LLM_MODEL_NAME = 'gpt-3.5-turbo' \n",
    "\n",
    "CHROMA_COLLECTION_NAME = \"fashion_products_reranked\"\n",
    "CHROMA_CACHE_COLLECTION_NAME = \"cache_fashion_products_reranked\"\n",
    "CHROMA_PATH = \"chroma_db_reranked\"\n",
    "\n",
    "# API Key Placeholder: Replace 'YOUR_API_KEY_HERE' with your actual OpenAI API key.\n",
    "# The script relies on this key for the OpenAIEmbeddingFunction.\n",
    "OPENAI_API_KEY = os.getenv(\"OPENAI_API_KEY\", \"YOUR_API_KEY_HERE\")\n",
    "\n",
    "# Global cache for storing final, re-ranked search results to avoid re-execution\n",
    "QUERY_CACHE: Dict[str, Tuple[List[Dict[str, Any]], str]] = {}"
   ]
  },
  {
   "cell_type": "code",
   "execution_count": 6,
   "metadata": {
    "execution": {
     "iopub.execute_input": "2025-10-29T02:15:54.982148Z",
     "iopub.status.busy": "2025-10-29T02:15:54.981479Z",
     "iopub.status.idle": "2025-10-29T02:15:54.985895Z",
     "shell.execute_reply": "2025-10-29T02:15:54.985246Z",
     "shell.execute_reply.started": "2025-10-29T02:15:54.982124Z"
    }
   },
   "outputs": [],
   "source": [
    " def clean_text(text):\n",
    "     \"\"\"Cleans product text by removing HTML tags and extra whitespace.\"\"\"\n",
    "     if pd.isna(text):\n",
    "         return \"\"\n",
    "         \n",
    "     soup = BeautifulSoup(text, 'html.parser')\n",
    "     cleaned = soup.get_text()\n",
    "     cleaned = re.sub(r'\\s+', ' ', cleaned)\n",
    "     return cleaned.strip()"
   ]
  },
  {
   "cell_type": "code",
   "execution_count": 7,
   "metadata": {
    "execution": {
     "iopub.execute_input": "2025-10-29T02:16:04.139552Z",
     "iopub.status.busy": "2025-10-29T02:16:04.139241Z",
     "iopub.status.idle": "2025-10-29T02:16:04.144292Z",
     "shell.execute_reply": "2025-10-29T02:16:04.143557Z",
     "shell.execute_reply.started": "2025-10-29T02:16:04.139532Z"
    }
   },
   "outputs": [],
   "source": [
    "def preprocess_data(csv_path):\n",
    "    \"\"\"Clean and preprocess the dataset\"\"\"\n",
    "    df = pd.read_csv(csv_path)\n",
    "    # Clean description\n",
    "    df['clean_description'] = df['description'].apply(clean_text)\n",
    "    \n",
    "    # Fill missing values\n",
    "    df['ratingCount'] = df['ratingCount'].fillna(0)\n",
    "    df['avg_rating'] = df['avg_rating'].fillna(0.0)\n",
    "    \n",
    "    # Create a comprehensive text field for embedding\n",
    "    df['full_text'] = df.apply(create_full_text, axis=1)\n",
    "    \n",
    "    return df"
   ]
  },
  {
   "cell_type": "code",
   "execution_count": 8,
   "metadata": {
    "execution": {
     "iopub.execute_input": "2025-10-29T02:16:05.748405Z",
     "iopub.status.busy": "2025-10-29T02:16:05.747664Z",
     "iopub.status.idle": "2025-10-29T02:16:05.752702Z",
     "shell.execute_reply": "2025-10-29T02:16:05.751889Z",
     "shell.execute_reply.started": "2025-10-29T02:16:05.748376Z"
    }
   },
   "outputs": [],
   "source": [
    "def create_full_text(row):\n",
    "    \"\"\"Combine all relevant fields into a single searchable text\"\"\"\n",
    "    parts = [\n",
    "        f\"Product: {row['name']}\",\n",
    "        f\"Brand: {row['brand']}\",\n",
    "        f\"Price: ₹{row['price']}\",\n",
    "        f\"Color: {row['colour']}\",\n",
    "        f\"Type: {row['products']}\",\n",
    "        f\"Rating: {row['avg_rating']:.1f}/5 ({int(row['ratingCount'])} reviews)\",\n",
    "        f\"Description: {row['clean_description']}\"\n",
    "    ]\n",
    "    return \" | \".join(parts)"
   ]
  },
  {
   "cell_type": "code",
   "execution_count": 9,
   "metadata": {
    "execution": {
     "iopub.execute_input": "2025-10-29T02:16:10.897047Z",
     "iopub.status.busy": "2025-10-29T02:16:10.896368Z",
     "iopub.status.idle": "2025-10-29T02:16:14.713248Z",
     "shell.execute_reply": "2025-10-29T02:16:14.712581Z",
     "shell.execute_reply.started": "2025-10-29T02:16:10.897023Z"
    }
   },
   "outputs": [],
   "source": [
    "data = preprocess_data(file_path)"
   ]
  },
  {
   "cell_type": "code",
   "execution_count": 10,
   "metadata": {
    "execution": {
     "iopub.execute_input": "2025-10-29T02:16:15.875015Z",
     "iopub.status.busy": "2025-10-29T02:16:15.874307Z",
     "iopub.status.idle": "2025-10-29T02:16:15.898088Z",
     "shell.execute_reply": "2025-10-29T02:16:15.897324Z",
     "shell.execute_reply.started": "2025-10-29T02:16:15.874990Z"
    }
   },
   "outputs": [
    {
     "data": {
      "text/html": [
       "<div>\n",
       "<style scoped>\n",
       "    .dataframe tbody tr th:only-of-type {\n",
       "        vertical-align: middle;\n",
       "    }\n",
       "\n",
       "    .dataframe tbody tr th {\n",
       "        vertical-align: top;\n",
       "    }\n",
       "\n",
       "    .dataframe thead th {\n",
       "        text-align: right;\n",
       "    }\n",
       "</style>\n",
       "<table border=\"1\" class=\"dataframe\">\n",
       "  <thead>\n",
       "    <tr style=\"text-align: right;\">\n",
       "      <th></th>\n",
       "      <th>p_id</th>\n",
       "      <th>name</th>\n",
       "      <th>products</th>\n",
       "      <th>price</th>\n",
       "      <th>colour</th>\n",
       "      <th>brand</th>\n",
       "      <th>img</th>\n",
       "      <th>ratingCount</th>\n",
       "      <th>avg_rating</th>\n",
       "      <th>description</th>\n",
       "      <th>p_attributes</th>\n",
       "      <th>clean_description</th>\n",
       "      <th>full_text</th>\n",
       "    </tr>\n",
       "  </thead>\n",
       "  <tbody>\n",
       "    <tr>\n",
       "      <th>0</th>\n",
       "      <td>17048614</td>\n",
       "      <td>Khushal K Women Black Ethnic Motifs Printed Ku...</td>\n",
       "      <td>Kurta, Palazzos, Dupatta</td>\n",
       "      <td>5099.0</td>\n",
       "      <td>Black</td>\n",
       "      <td>Khushal K</td>\n",
       "      <td>http://assets.myntassets.com/assets/images/170...</td>\n",
       "      <td>4522.0</td>\n",
       "      <td>4.418399</td>\n",
       "      <td>Black printed Kurta with Palazzos with dupatta...</td>\n",
       "      <td>{'Add-Ons': 'NA', 'Body Shape ID': '443,333,32...</td>\n",
       "      <td>Black printed Kurta with Palazzos with dupatta...</td>\n",
       "      <td>Product: Khushal K Women Black Ethnic Motifs P...</td>\n",
       "    </tr>\n",
       "    <tr>\n",
       "      <th>1</th>\n",
       "      <td>16524740</td>\n",
       "      <td>InWeave Women Orange Solid Kurta with Palazzos...</td>\n",
       "      <td>Kurta, Palazzos, Floral Print Dupatta</td>\n",
       "      <td>5899.0</td>\n",
       "      <td>Orange</td>\n",
       "      <td>InWeave</td>\n",
       "      <td>http://assets.myntassets.com/assets/images/165...</td>\n",
       "      <td>1081.0</td>\n",
       "      <td>4.119334</td>\n",
       "      <td>Orange solid Kurta with Palazzos with dupatta&lt;...</td>\n",
       "      <td>{'Add-Ons': 'NA', 'Body Shape ID': '443,333,32...</td>\n",
       "      <td>Orange solid Kurta with Palazzos with dupattaK...</td>\n",
       "      <td>Product: InWeave Women Orange Solid Kurta with...</td>\n",
       "    </tr>\n",
       "    <tr>\n",
       "      <th>2</th>\n",
       "      <td>16331376</td>\n",
       "      <td>Anubhutee Women Navy Blue Ethnic Motifs Embroi...</td>\n",
       "      <td>Kurta, Trousers, Dupatta</td>\n",
       "      <td>4899.0</td>\n",
       "      <td>Navy Blue</td>\n",
       "      <td>Anubhutee</td>\n",
       "      <td>http://assets.myntassets.com/assets/images/163...</td>\n",
       "      <td>1752.0</td>\n",
       "      <td>4.161530</td>\n",
       "      <td>Navy blue embroidered Kurta with Trousers with...</td>\n",
       "      <td>{'Add-Ons': 'NA', 'Body Shape ID': '333,424', ...</td>\n",
       "      <td>Navy blue embroidered Kurta with Trousers with...</td>\n",
       "      <td>Product: Anubhutee Women Navy Blue Ethnic Moti...</td>\n",
       "    </tr>\n",
       "    <tr>\n",
       "      <th>3</th>\n",
       "      <td>14709966</td>\n",
       "      <td>Nayo Women Red Floral Printed Kurta With Trous...</td>\n",
       "      <td>Kurta, Trouser, Dupatta</td>\n",
       "      <td>3699.0</td>\n",
       "      <td>Red</td>\n",
       "      <td>Nayo</td>\n",
       "      <td>http://assets.myntassets.com/assets/images/147...</td>\n",
       "      <td>4113.0</td>\n",
       "      <td>4.088986</td>\n",
       "      <td>Red printed kurta with trouser and dupatta&lt;br&gt;...</td>\n",
       "      <td>{'Add-Ons': 'NA', 'Body Shape ID': '333,424', ...</td>\n",
       "      <td>Red printed kurta with trouser and dupattaKurt...</td>\n",
       "      <td>Product: Nayo Women Red Floral Printed Kurta W...</td>\n",
       "    </tr>\n",
       "    <tr>\n",
       "      <th>4</th>\n",
       "      <td>11056154</td>\n",
       "      <td>AHIKA Women Black &amp; Green Printed Straight Kurta</td>\n",
       "      <td>Kurta</td>\n",
       "      <td>1350.0</td>\n",
       "      <td>Black</td>\n",
       "      <td>AHIKA</td>\n",
       "      <td>http://assets.myntassets.com/assets/images/110...</td>\n",
       "      <td>21274.0</td>\n",
       "      <td>3.978377</td>\n",
       "      <td>Black and green printed straight kurta, has a ...</td>\n",
       "      <td>{'Body Shape ID': '424', 'Body or Garment Size...</td>\n",
       "      <td>Black and green printed straight kurta, has a ...</td>\n",
       "      <td>Product: AHIKA Women Black &amp; Green Printed Str...</td>\n",
       "    </tr>\n",
       "  </tbody>\n",
       "</table>\n",
       "</div>"
      ],
      "text/plain": [
       "       p_id                                               name  \\\n",
       "0  17048614  Khushal K Women Black Ethnic Motifs Printed Ku...   \n",
       "1  16524740  InWeave Women Orange Solid Kurta with Palazzos...   \n",
       "2  16331376  Anubhutee Women Navy Blue Ethnic Motifs Embroi...   \n",
       "3  14709966  Nayo Women Red Floral Printed Kurta With Trous...   \n",
       "4  11056154   AHIKA Women Black & Green Printed Straight Kurta   \n",
       "\n",
       "                                products   price     colour      brand  \\\n",
       "0               Kurta, Palazzos, Dupatta  5099.0      Black  Khushal K   \n",
       "1  Kurta, Palazzos, Floral Print Dupatta  5899.0     Orange    InWeave   \n",
       "2               Kurta, Trousers, Dupatta  4899.0  Navy Blue  Anubhutee   \n",
       "3                Kurta, Trouser, Dupatta  3699.0        Red       Nayo   \n",
       "4                                  Kurta  1350.0      Black      AHIKA   \n",
       "\n",
       "                                                 img  ratingCount  avg_rating  \\\n",
       "0  http://assets.myntassets.com/assets/images/170...       4522.0    4.418399   \n",
       "1  http://assets.myntassets.com/assets/images/165...       1081.0    4.119334   \n",
       "2  http://assets.myntassets.com/assets/images/163...       1752.0    4.161530   \n",
       "3  http://assets.myntassets.com/assets/images/147...       4113.0    4.088986   \n",
       "4  http://assets.myntassets.com/assets/images/110...      21274.0    3.978377   \n",
       "\n",
       "                                         description  \\\n",
       "0  Black printed Kurta with Palazzos with dupatta...   \n",
       "1  Orange solid Kurta with Palazzos with dupatta<...   \n",
       "2  Navy blue embroidered Kurta with Trousers with...   \n",
       "3  Red printed kurta with trouser and dupatta<br>...   \n",
       "4  Black and green printed straight kurta, has a ...   \n",
       "\n",
       "                                        p_attributes  \\\n",
       "0  {'Add-Ons': 'NA', 'Body Shape ID': '443,333,32...   \n",
       "1  {'Add-Ons': 'NA', 'Body Shape ID': '443,333,32...   \n",
       "2  {'Add-Ons': 'NA', 'Body Shape ID': '333,424', ...   \n",
       "3  {'Add-Ons': 'NA', 'Body Shape ID': '333,424', ...   \n",
       "4  {'Body Shape ID': '424', 'Body or Garment Size...   \n",
       "\n",
       "                                   clean_description  \\\n",
       "0  Black printed Kurta with Palazzos with dupatta...   \n",
       "1  Orange solid Kurta with Palazzos with dupattaK...   \n",
       "2  Navy blue embroidered Kurta with Trousers with...   \n",
       "3  Red printed kurta with trouser and dupattaKurt...   \n",
       "4  Black and green printed straight kurta, has a ...   \n",
       "\n",
       "                                           full_text  \n",
       "0  Product: Khushal K Women Black Ethnic Motifs P...  \n",
       "1  Product: InWeave Women Orange Solid Kurta with...  \n",
       "2  Product: Anubhutee Women Navy Blue Ethnic Moti...  \n",
       "3  Product: Nayo Women Red Floral Printed Kurta W...  \n",
       "4  Product: AHIKA Women Black & Green Printed Str...  "
      ]
     },
     "execution_count": 10,
     "metadata": {},
     "output_type": "execute_result"
    }
   ],
   "source": [
    "data.head()"
   ]
  },
  {
   "cell_type": "markdown",
   "metadata": {},
   "source": [
    "### Data Chunking Strategy"
   ]
  },
  {
   "cell_type": "code",
   "execution_count": 11,
   "metadata": {
    "execution": {
     "iopub.execute_input": "2025-10-29T02:16:23.055514Z",
     "iopub.status.busy": "2025-10-29T02:16:23.055229Z",
     "iopub.status.idle": "2025-10-29T02:16:23.060820Z",
     "shell.execute_reply": "2025-10-29T02:16:23.060191Z",
     "shell.execute_reply.started": "2025-10-29T02:16:23.055494Z"
    }
   },
   "outputs": [],
   "source": [
    " def chunking_product_based(df: pd.DataFrame) -> List[Dict[str, Any]]:\n",
    "     \"\"\"\n",
    "     Strategy: Product-based chunking\n",
    "     Each product is one semantic unit        \n",
    "     \"\"\"\n",
    "     chunks = []\n",
    "     for idx, row in df.iterrows():\n",
    "         chunks.append({\n",
    "             'chunk_id': f\"prod_{row['p_id']}\",\n",
    "             'product_id': row['p_id'],\n",
    "             'text': row['full_text'],\n",
    "             'metadata': {\n",
    "                 'name': row['name'],\n",
    "                 'brand': row['brand'],\n",
    "                 'price': float(row['price']),\n",
    "                 'colour': row['colour'],\n",
    "                 'products': row['products'],\n",
    "                 'rating': float(row['avg_rating']),\n",
    "                 'image_url': row['img'],\n",
    "                 'chunk_strategy': 'product_based'\n",
    "             }\n",
    "         })\n",
    "     \n",
    "     return chunks"
   ]
  },
  {
   "cell_type": "code",
   "execution_count": 12,
   "metadata": {
    "execution": {
     "iopub.execute_input": "2025-10-29T02:16:24.752645Z",
     "iopub.status.busy": "2025-10-29T02:16:24.752367Z",
     "iopub.status.idle": "2025-10-29T02:16:24.758586Z",
     "shell.execute_reply": "2025-10-29T02:16:24.757826Z",
     "shell.execute_reply.started": "2025-10-29T02:16:24.752625Z"
    }
   },
   "outputs": [],
   "source": [
    "def chunking_fixed_size(df: pd.DataFrame, chunk_size: int = 512) -> List[Dict[str, Any]]:\n",
    "    \"\"\"\n",
    "    Strategy 1: Fixed-size chunking\n",
    "    Splits long descriptions into fixed-size chunks\n",
    "    Pros: Simple, predictable\n",
    "    Cons: May break semantic meaning\n",
    "    \"\"\"\n",
    "    chunks = []\n",
    "    for idx, row in df.iterrows():\n",
    "        text = row['full_text']\n",
    "        \n",
    "        # Split into chunks\n",
    "        for i in range(0, len(text), chunk_size):\n",
    "            chunk_text = text[i:i + chunk_size]\n",
    "            chunks.append({\n",
    "                'chunk_id': f\"{row['p_id']}_chunk_{i // chunk_size}\",\n",
    "                'product_id': row['p_id'],\n",
    "                'text': chunk_text,\n",
    "                'metadata': {\n",
    "                    'name': row['name'],\n",
    "                    'brand': row['brand'],\n",
    "                    'price': float(row['price']),\n",
    "                    'colour': row['colour'],\n",
    "                    'products': row['products'],\n",
    "                        'rating': float(row['avg_rating']),\n",
    "                        'image_url': row['img'],\n",
    "                        'chunk_strategy': 'fixed_size'\n",
    "                    }\n",
    "            })\n",
    "        \n",
    "    return chunks"
   ]
  },
  {
   "cell_type": "code",
   "execution_count": 13,
   "metadata": {
    "execution": {
     "iopub.execute_input": "2025-10-29T02:16:29.025127Z",
     "iopub.status.busy": "2025-10-29T02:16:29.024596Z",
     "iopub.status.idle": "2025-10-29T02:16:29.033288Z",
     "shell.execute_reply": "2025-10-29T02:16:29.032600Z",
     "shell.execute_reply.started": "2025-10-29T02:16:29.025101Z"
    }
   },
   "outputs": [],
   "source": [
    "def chunking_semantic_sections(df: pd.DataFrame) -> List[Dict[str, Any]]:\n",
    "    \"\"\"\n",
    "    Strategy 3: Semantic section-based chunking\n",
    "    Splits products into semantic sections (basic info, pricing, description)\n",
    "    \"\"\"\n",
    "    chunks = []\n",
    "    for idx, row in df.iterrows():\n",
    "        product_id = row['p_id']\n",
    "        \n",
    "        # Chunk 1: Basic product info\n",
    "        basic_info = f\"Product: {row['name']} | Brand: {row['brand']} | Type: {row['products']} | Color: {row['colour']}\"\n",
    "        chunks.append({\n",
    "            'chunk_id': f\"{product_id}_basic\",\n",
    "            'product_id': product_id,\n",
    "            'text': basic_info,\n",
    "            'metadata': {\n",
    "                'name': row['name'],\n",
    "                'brand': row['brand'],\n",
    "                'price': float(row['price']),\n",
    "                'colour': row['colour'],\n",
    "                'products': row['products'],\n",
    "                'rating': float(row['avg_rating']),\n",
    "                'image_url': row['img'],\n",
    "                'chunk_type': 'basic_info',\n",
    "                'chunk_strategy': 'semantic_sections'\n",
    "            }\n",
    "        })\n",
    "            \n",
    "        # Chunk 2: Pricing and ratings\n",
    "        pricing_info = f\"{row['name']} by {row['brand']} | Price: ₹{row['price']} | Rating: {row['avg_rating']:.1f}/5 based on {int(row['ratingCount'])} customer reviews\"\n",
    "        chunks.append({\n",
    "            'chunk_id': f\"{product_id}_pricing\",\n",
    "            'product_id': product_id,\n",
    "            'text': pricing_info,\n",
    "            'metadata': {\n",
    "                'name': row['name'],\n",
    "                'brand': row['brand'],\n",
    "                'price': float(row['price']),\n",
    "                'colour': row['colour'],\n",
    "                'products': row['products'],\n",
    "                'rating': float(row['avg_rating']),\n",
    "                'image_url': row['img'],\n",
    "                'chunk_type': 'pricing',\n",
    "                'chunk_strategy': 'semantic_sections'\n",
    "            }\n",
    "        })\n",
    "            \n",
    "        # Chunk 3: Detailed description\n",
    "        if row['clean_description']:\n",
    "            desc_text = f\"{row['name']} - {row['clean_description']}\"\n",
    "            chunks.append({\n",
    "                'chunk_id': f\"{product_id}_description\",\n",
    "                'product_id': product_id,\n",
    "                'text': desc_text,\n",
    "                'metadata': {\n",
    "                    'name': row['name'],\n",
    "                    'brand': row['brand'],\n",
    "                    'price': float(row['price']),\n",
    "                    'colour': row['colour'],\n",
    "                    'products': row['products'],\n",
    "                    'rating': float(row['avg_rating']),\n",
    "                    'image_url': row['img'],\n",
    "                    'chunk_type': 'description',\n",
    "                    'chunk_strategy': 'semantic_sections'\n",
    "                }\n",
    "            })\n",
    "        \n",
    "        return chunks"
   ]
  },
  {
   "cell_type": "code",
   "execution_count": 14,
   "metadata": {
    "execution": {
     "iopub.execute_input": "2025-10-29T02:16:34.079823Z",
     "iopub.status.busy": "2025-10-29T02:16:34.079520Z",
     "iopub.status.idle": "2025-10-29T02:16:34.815973Z",
     "shell.execute_reply": "2025-10-29T02:16:34.815310Z",
     "shell.execute_reply.started": "2025-10-29T02:16:34.079801Z"
    }
   },
   "outputs": [
    {
     "name": "stdout",
     "output_type": "stream",
     "text": [
      "Created 14214 Product based chunks\n"
     ]
    }
   ],
   "source": [
    "# Chunking Strategy based on product\n",
    "product_based_chunks = chunking_product_based(data)\n",
    "print(f\"Created {len(product_based_chunks)} Product based chunks\")"
   ]
  },
  {
   "cell_type": "code",
   "execution_count": 15,
   "metadata": {
    "execution": {
     "iopub.execute_input": "2025-10-29T02:16:36.484105Z",
     "iopub.status.busy": "2025-10-29T02:16:36.483594Z",
     "iopub.status.idle": "2025-10-29T02:16:36.496311Z",
     "shell.execute_reply": "2025-10-29T02:16:36.495552Z",
     "shell.execute_reply.started": "2025-10-29T02:16:36.484080Z"
    }
   },
   "outputs": [
    {
     "name": "stdout",
     "output_type": "stream",
     "text": [
      "Created 3 semantic sections based chunks\n"
     ]
    }
   ],
   "source": [
    "# Chunking Stragedy based semantic sections\n",
    "semantic_sections_chunks = chunking_semantic_sections(data)\n",
    "print(f\"Created {len(semantic_sections_chunks)} semantic sections based chunks\")"
   ]
  },
  {
   "cell_type": "code",
   "execution_count": 16,
   "metadata": {
    "execution": {
     "iopub.execute_input": "2025-10-29T02:16:38.224595Z",
     "iopub.status.busy": "2025-10-29T02:16:38.223886Z",
     "iopub.status.idle": "2025-10-29T02:16:39.024252Z",
     "shell.execute_reply": "2025-10-29T02:16:39.023472Z",
     "shell.execute_reply.started": "2025-10-29T02:16:38.224571Z"
    }
   },
   "outputs": [
    {
     "name": "stdout",
     "output_type": "stream",
     "text": [
      "Created 17816 fixed sized based chunks\n"
     ]
    }
   ],
   "source": [
    "# Chunking Stragedy based on fixed size\n",
    "fixed_sized_chunks = chunking_fixed_size(data)\n",
    "print(f\"Created {len(fixed_sized_chunks)} fixed sized based chunks\")"
   ]
  },
  {
   "cell_type": "markdown",
   "metadata": {},
   "source": [
    "### Embedding Generation and ChromaDB Vector database operations"
   ]
  },
  {
   "cell_type": "code",
   "execution_count": 17,
   "metadata": {
    "execution": {
     "iopub.execute_input": "2025-10-29T02:16:43.236488Z",
     "iopub.status.busy": "2025-10-29T02:16:43.235791Z",
     "iopub.status.idle": "2025-10-29T02:16:43.504192Z",
     "shell.execute_reply": "2025-10-29T02:16:43.503547Z",
     "shell.execute_reply.started": "2025-10-29T02:16:43.236454Z"
    }
   },
   "outputs": [],
   "source": [
    "import chromadb\n",
    "\n",
    "# Initialize ChromaDB\n",
    "chroma_client = chromadb.PersistentClient(path=CHROMA_PATH)"
   ]
  },
  {
   "cell_type": "code",
   "execution_count": 18,
   "metadata": {
    "execution": {
     "iopub.execute_input": "2025-10-29T02:16:45.179166Z",
     "iopub.status.busy": "2025-10-29T02:16:45.178881Z",
     "iopub.status.idle": "2025-10-29T02:16:45.428555Z",
     "shell.execute_reply": "2025-10-29T02:16:45.427971Z",
     "shell.execute_reply.started": "2025-10-29T02:16:45.179148Z"
    }
   },
   "outputs": [],
   "source": [
    "# OpenAI embedding function\n",
    "embedding_function = OpenAIEmbeddingFunction(\n",
    "    api_key=OPENAI_API_KEY,\n",
    "    model_name=EMBEDDING_MODEL_NAME\n",
    ")"
   ]
  },
  {
   "cell_type": "code",
   "execution_count": 19,
   "metadata": {
    "execution": {
     "iopub.execute_input": "2025-10-29T02:16:46.730708Z",
     "iopub.status.busy": "2025-10-29T02:16:46.729963Z",
     "iopub.status.idle": "2025-10-29T02:16:46.751923Z",
     "shell.execute_reply": "2025-10-29T02:16:46.751340Z",
     "shell.execute_reply.started": "2025-10-29T02:16:46.730686Z"
    }
   },
   "outputs": [],
   "source": [
    "# Create or get collection\n",
    "collection = chroma_client.get_or_create_collection(\n",
    "    name=CHROMA_COLLECTION_NAME,\n",
    "    embedding_function=embedding_function,\n",
    "    metadata={\"description\": \"Fashion product embeddings\"}\n",
    ")"
   ]
  },
  {
   "cell_type": "code",
   "execution_count": 20,
   "metadata": {
    "execution": {
     "iopub.execute_input": "2025-10-29T02:16:51.382096Z",
     "iopub.status.busy": "2025-10-29T02:16:51.381444Z",
     "iopub.status.idle": "2025-10-29T02:16:51.387599Z",
     "shell.execute_reply": "2025-10-29T02:16:51.386791Z",
     "shell.execute_reply.started": "2025-10-29T02:16:51.382072Z"
    }
   },
   "outputs": [],
   "source": [
    " def add_chunks_to_db(chunks: List[Dict[str, Any]]) -> None:\n",
    "    \"\"\"Add chunks to ChromaDB\"\"\"\n",
    "    print(f\"Adding {len(chunks)} chunks to ChromaDB...\")\n",
    "    \n",
    "    ids = [chunk['chunk_id'] for chunk in chunks]\n",
    "    documents = [chunk['text'] for chunk in chunks]\n",
    "    metadatas = [chunk['metadata'] for chunk in chunks]\n",
    "    \n",
    "    # Add in batches to avoid API limits\n",
    "    batch_size = 1000\n",
    "    for i in range(0, len(chunks), batch_size):\n",
    "        batch_ids = ids[i:i+batch_size]\n",
    "        batch_docs = documents[i:i+batch_size]\n",
    "        batch_meta = metadatas[i:i+batch_size]\n",
    "        \n",
    "        collection.add(\n",
    "            ids=batch_ids,\n",
    "            documents=batch_docs,\n",
    "            metadatas=batch_meta\n",
    "        )\n",
    "        print(f\"Processed {min(i+batch_size, len(chunks))}/{len(chunks)} chunks\")\n",
    "    \n",
    "    print(\"All chunks added to ChromaDB\")"
   ]
  },
  {
   "cell_type": "code",
   "execution_count": 21,
   "metadata": {
    "execution": {
     "iopub.execute_input": "2025-10-29T02:16:53.258598Z",
     "iopub.status.busy": "2025-10-29T02:16:53.258111Z",
     "iopub.status.idle": "2025-10-29T02:17:46.962881Z",
     "shell.execute_reply": "2025-10-29T02:17:46.962105Z",
     "shell.execute_reply.started": "2025-10-29T02:16:53.258577Z"
    }
   },
   "outputs": [
    {
     "name": "stdout",
     "output_type": "stream",
     "text": [
      "Adding 14214 chunks to ChromaDB...\n",
      "Processed 1000/14214 chunks\n",
      "Processed 2000/14214 chunks\n",
      "Processed 3000/14214 chunks\n",
      "Processed 4000/14214 chunks\n",
      "Processed 5000/14214 chunks\n",
      "Processed 6000/14214 chunks\n",
      "Processed 7000/14214 chunks\n",
      "Processed 8000/14214 chunks\n",
      "Processed 9000/14214 chunks\n",
      "Processed 10000/14214 chunks\n",
      "Processed 11000/14214 chunks\n",
      "Processed 12000/14214 chunks\n",
      "Processed 13000/14214 chunks\n",
      "Processed 14000/14214 chunks\n",
      "Processed 14214/14214 chunks\n",
      "All chunks added to ChromaDB\n",
      "Vector database ready: 14214 chunks\n"
     ]
    }
   ],
   "source": [
    "# # Add the chunks and metadata to the collection along with generic integer IDs.\n",
    "add_chunks_to_db(product_based_chunks)\n",
    "\n",
    "print(f\"Vector database ready: {collection.count()} chunks\")"
   ]
  },
  {
   "cell_type": "code",
   "execution_count": 22,
   "metadata": {
    "execution": {
     "iopub.execute_input": "2025-10-29T02:18:04.785710Z",
     "iopub.status.busy": "2025-10-29T02:18:04.785431Z",
     "iopub.status.idle": "2025-10-29T02:18:04.794007Z",
     "shell.execute_reply": "2025-10-29T02:18:04.793371Z",
     "shell.execute_reply.started": "2025-10-29T02:18:04.785689Z"
    }
   },
   "outputs": [
    {
     "data": {
      "text/plain": [
       "{'ids': ['prod_17048614', 'prod_16524740', 'prod_16331376'],\n",
       " 'embeddings': array([[-0.02576004,  0.00104004,  0.0129606 , ...,  0.00408628,\n",
       "          0.01067067, -0.01533783],\n",
       "        [-0.00019932, -0.00751893, -0.0128093 , ..., -0.01083864,\n",
       "          0.02223276, -0.01213477],\n",
       "        [-0.02945477, -0.00898833,  0.01080448, ..., -0.01870312,\n",
       "          0.0123961 , -0.01075165]]),\n",
       " 'documents': [\"Product: Khushal K Women Black Ethnic Motifs Printed Kurta with Palazzos & With Dupatta | Brand: Khushal K | Price: ₹5099.0 | Color: Black | Type: Kurta, Palazzos, Dupatta | Rating: 4.4/5 (4522 reviews) | Description: Black printed Kurta with Palazzos with dupatta Kurta design: Ethnic motifs printed Anarkali shape Regular style Mandarin collar, three-quarter regular sleeves Calf length with flared hem Viscose rayon machine weave fabric Palazzos design: Printed Palazzos Elasticated waistband Slip-on closure Dupatta Length 2.43 meters Width: 88 cmThe model (height 5'8) is wearing a size S100% RayonMachine wash\",\n",
       "  \"Product: InWeave Women Orange Solid Kurta with Palazzos & Floral Print Dupatta | Brand: InWeave | Price: ₹5899.0 | Color: Orange | Type: Kurta, Palazzos, Floral Print Dupatta | Rating: 4.1/5 (1081 reviews) | Description: Orange solid Kurta with Palazzos with dupattaKurta design: SolidA-line shapeRegular styleSquare neck, sleeveless shoulder strapsCalf length with straight hemViscose rayon machine weave fabricPalazzos design: Solid PalazzosElasticated waistbandZip closureDupatta Design:Floral PrintedKurta Fabric: Viscose rayonBottom Fabric: Viscose rayonDupatta Fabric: OrganzaHand washThe model (height 5'8) is wearing a size S\",\n",
       "  \"Product: Anubhutee Women Navy Blue Ethnic Motifs Embroidered Thread Work Kurta with Trousers & With Dupatta | Brand: Anubhutee | Price: ₹4899.0 | Color: Navy Blue | Type: Kurta, Trousers, Dupatta | Rating: 4.2/5 (1752 reviews) | Description: Navy blue embroidered Kurta with Trousers with dupatta Kurta design: Ethnic motifs embroidered A-line shape Regular style Round neck, three-quarter no sleeves Thread work detail Above knee length with flared hem Viscose rayon machine weave fabric Trousers design: Printed Trousers Elasticated waistband Slip-on closure Viscose rayonHand WashThe model (height 5'8) is wearing a size S\"],\n",
       " 'uris': None,\n",
       " 'included': ['embeddings', 'documents', 'metadatas'],\n",
       " 'data': None,\n",
       " 'metadatas': [{'chunk_strategy': 'product_based',\n",
       "   'products': 'Kurta, Palazzos, Dupatta',\n",
       "   'brand': 'Khushal K',\n",
       "   'rating': 4.4183989385227775,\n",
       "   'name': 'Khushal K Women Black Ethnic Motifs Printed Kurta with Palazzos & With Dupatta',\n",
       "   'image_url': 'http://assets.myntassets.com/assets/images/17048614/2022/2/4/b0eb9426-adf2-4802-a6b3-5dbacbc5f2511643971561167KhushalKWomenBlackEthnicMotifsAngrakhaBeadsandStonesKurtawit7.jpg',\n",
       "   'colour': 'Black',\n",
       "   'price': 5099.0},\n",
       "  {'price': 5899.0,\n",
       "   'image_url': 'http://assets.myntassets.com/assets/images/16524740/2021/12/29/17ab2ac8-2e60-422d-9d20-2527415932361640754214931-STRAPPY-SET-IN-ORANGE-WITH-ORGANZA-DUPATTA-5961640754214349-2.jpg',\n",
       "   'brand': 'InWeave',\n",
       "   'rating': 4.119333950046253,\n",
       "   'colour': 'Orange',\n",
       "   'name': 'InWeave Women Orange Solid Kurta with Palazzos & Floral Print Dupatta',\n",
       "   'chunk_strategy': 'product_based',\n",
       "   'products': 'Kurta, Palazzos, Floral Print Dupatta'},\n",
       "  {'price': 4899.0,\n",
       "   'brand': 'Anubhutee',\n",
       "   'image_url': 'http://assets.myntassets.com/assets/images/16331376/2021/12/2/b8c4f90f-683c-48d2-b8ac-19891a87c0651638428628378KurtaSets1.jpg',\n",
       "   'name': 'Anubhutee Women Navy Blue Ethnic Motifs Embroidered Thread Work Kurta with Trousers & With Dupatta',\n",
       "   'products': 'Kurta, Trousers, Dupatta',\n",
       "   'chunk_strategy': 'product_based',\n",
       "   'rating': 4.161529680365297,\n",
       "   'colour': 'Navy Blue'}]}"
      ]
     },
     "execution_count": 22,
     "metadata": {},
     "output_type": "execute_result"
    }
   ],
   "source": [
    "# Let's take a look at the first few entries in the collection\n",
    "\n",
    "collection.get(\n",
    "    ids = ['prod_17048614','prod_16524740','prod_16331376'],\n",
    "    include = ['embeddings', 'documents', 'metadatas']\n",
    ")"
   ]
  },
  {
   "cell_type": "code",
   "execution_count": 23,
   "metadata": {
    "execution": {
     "iopub.execute_input": "2025-10-29T02:18:10.462865Z",
     "iopub.status.busy": "2025-10-29T02:18:10.462578Z",
     "iopub.status.idle": "2025-10-29T02:18:10.601069Z",
     "shell.execute_reply": "2025-10-29T02:18:10.600308Z",
     "shell.execute_reply.started": "2025-10-29T02:18:10.462844Z"
    }
   },
   "outputs": [],
   "source": [
    "# Cache Collection\n",
    "cache_collection = chroma_client.get_or_create_collection(\n",
    "    name=CHROMA_CACHE_COLLECTION_NAME, \n",
    "    embedding_function=embedding_function,\n",
    "    metadata={\"description\": \"Persistent cache for search results\"}\n",
    ")"
   ]
  },
  {
   "cell_type": "code",
   "execution_count": 24,
   "metadata": {
    "execution": {
     "iopub.execute_input": "2025-10-29T02:18:13.015337Z",
     "iopub.status.busy": "2025-10-29T02:18:13.015064Z",
     "iopub.status.idle": "2025-10-29T02:18:13.022712Z",
     "shell.execute_reply": "2025-10-29T02:18:13.021940Z",
     "shell.execute_reply.started": "2025-10-29T02:18:13.015318Z"
    }
   },
   "outputs": [
    {
     "data": {
      "text/plain": [
       "{'ids': [],\n",
       " 'embeddings': array([], dtype=float64),\n",
       " 'documents': [],\n",
       " 'uris': None,\n",
       " 'included': ['metadatas', 'documents', 'embeddings'],\n",
       " 'data': None,\n",
       " 'metadatas': []}"
      ]
     },
     "execution_count": 24,
     "metadata": {},
     "output_type": "execute_result"
    }
   ],
   "source": [
    "cache_collection.peek()"
   ]
  },
  {
   "cell_type": "markdown",
   "metadata": {},
   "source": [
    "## Layer 2: The Search Layer (Retrieval, Re-ranking, & Caching)"
   ]
  },
  {
   "cell_type": "markdown",
   "metadata": {},
   "source": [
    "### Search Module with Caching"
   ]
  },
  {
   "cell_type": "code",
   "execution_count": 25,
   "metadata": {
    "execution": {
     "iopub.execute_input": "2025-10-29T02:18:19.786675Z",
     "iopub.status.busy": "2025-10-29T02:18:19.786403Z",
     "iopub.status.idle": "2025-10-29T02:18:19.793839Z",
     "shell.execute_reply": "2025-10-29T02:18:19.793063Z",
     "shell.execute_reply.started": "2025-10-29T02:18:19.786657Z"
    }
   },
   "outputs": [],
   "source": [
    "# Caches search results in a persistent ChromaDB collection.\n",
    "# Each cache entry is uniquely identified by a hash of (query, n_results).\n",
    "\n",
    "def make_key(query: str, n_results: int) -> str:\n",
    "    cache_key = json.dumps({\"query\": query, \"n_results\": n_results})\n",
    "    return hashlib.sha256(cache_key.encode()).hexdigest()\n",
    "\n",
    "def get_cache_collection(query: str, n_results: int) -> Dict[str, Any] or None:\n",
    "    key = make_key(query, n_results)\n",
    "    results = cache_collection.get(ids=[key], include=[\"metadatas\", \"documents\"])\n",
    "    \n",
    "    if results and results[\"ids\"]:\n",
    "        metadata = results[\"metadatas\"][0]\n",
    "        # Parse timestamp from metadata for TTL check\n",
    "        last_accessed = datetime.fromisoformat(metadata.get(\"timestamp\", \"1970-01-01T00:00:00\"))\n",
    "        if datetime.now() - last_accessed < timedelta(hours=1):\n",
    "            # Return the cached search (stored as document JSON)\n",
    "            return json.loads(results[\"documents\"][0])\n",
    "        # remove stale cache\n",
    "        cache_collection.delete(ids=[key])\n",
    "    return None\n",
    "\n",
    "def set_cache_collection(query: str, n_results: int, search_result: Dict[str, Any]) -> None:\n",
    "    key = make_key(query, n_results)\n",
    "    timestamp = datetime.now().isoformat()\n",
    "    metadata = {\n",
    "        \"query\": query,\n",
    "        \"n_results\": n_results,\n",
    "        \"timestamp\": timestamp\n",
    "    }\n",
    "    cache_collection.add(documents=[json.dumps(search_result)], metadatas=[metadata], ids=[key])\n",
    "\n",
    "\n",
    "def clear():\n",
    "    # Clear all cache entries\n",
    "    all_ids = cache_collection.get(include=[])[\"ids\"]\n",
    "    if all_ids:\n",
    "        cache_collection.delete(ids=all_ids)"
   ]
  },
  {
   "cell_type": "markdown",
   "metadata": {},
   "source": [
    "### Search and re-ranking operations"
   ]
  },
  {
   "cell_type": "code",
   "execution_count": 26,
   "metadata": {
    "execution": {
     "iopub.execute_input": "2025-10-29T02:18:25.943150Z",
     "iopub.status.busy": "2025-10-29T02:18:25.942564Z",
     "iopub.status.idle": "2025-10-29T02:18:29.367017Z",
     "shell.execute_reply": "2025-10-29T02:18:29.366382Z",
     "shell.execute_reply.started": "2025-10-29T02:18:25.943125Z"
    }
   },
   "outputs": [
    {
     "data": {
      "application/vnd.jupyter.widget-view+json": {
       "model_id": "d339b70878ea4ffaa5cc2b7bbb9ed062",
       "version_major": 2,
       "version_minor": 0
      },
      "text/plain": [
       "config.json:   0%|          | 0.00/794 [00:00<?, ?B/s]"
      ]
     },
     "metadata": {},
     "output_type": "display_data"
    },
    {
     "data": {
      "application/vnd.jupyter.widget-view+json": {
       "model_id": "7eddde5b7eb34cb7a2b2deb379d0a400",
       "version_major": 2,
       "version_minor": 0
      },
      "text/plain": [
       "model.safetensors:   0%|          | 0.00/90.9M [00:00<?, ?B/s]"
      ]
     },
     "metadata": {},
     "output_type": "display_data"
    },
    {
     "data": {
      "application/vnd.jupyter.widget-view+json": {
       "model_id": "00fd6ea6511d42fba5dcc7dd11ca574f",
       "version_major": 2,
       "version_minor": 0
      },
      "text/plain": [
       "tokenizer_config.json: 0.00B [00:00, ?B/s]"
      ]
     },
     "metadata": {},
     "output_type": "display_data"
    },
    {
     "data": {
      "application/vnd.jupyter.widget-view+json": {
       "model_id": "9100294026cc4b5dbf854ec0df0e0f9b",
       "version_major": 2,
       "version_minor": 0
      },
      "text/plain": [
       "vocab.txt: 0.00B [00:00, ?B/s]"
      ]
     },
     "metadata": {},
     "output_type": "display_data"
    },
    {
     "data": {
      "application/vnd.jupyter.widget-view+json": {
       "model_id": "6afae1443b6a41e49c2e33ed4b408808",
       "version_major": 2,
       "version_minor": 0
      },
      "text/plain": [
       "tokenizer.json: 0.00B [00:00, ?B/s]"
      ]
     },
     "metadata": {},
     "output_type": "display_data"
    },
    {
     "data": {
      "application/vnd.jupyter.widget-view+json": {
       "model_id": "9d4d79d923fd4b8783737540ffce810e",
       "version_major": 2,
       "version_minor": 0
      },
      "text/plain": [
       "special_tokens_map.json:   0%|          | 0.00/132 [00:00<?, ?B/s]"
      ]
     },
     "metadata": {},
     "output_type": "display_data"
    },
    {
     "data": {
      "application/vnd.jupyter.widget-view+json": {
       "model_id": "8ca572e8888f472aa24c4fd1e11bc397",
       "version_major": 2,
       "version_minor": 0
      },
      "text/plain": [
       "README.md: 0.00B [00:00, ?B/s]"
      ]
     },
     "metadata": {},
     "output_type": "display_data"
    }
   ],
   "source": [
    " # Initialise the cross encoder model\n",
    "cross_encoder = CrossEncoder(RE_RANKER_MODEL_NAME) #max_length=512"
   ]
  },
  {
   "cell_type": "code",
   "execution_count": 27,
   "metadata": {
    "execution": {
     "iopub.execute_input": "2025-10-29T02:18:32.477760Z",
     "iopub.status.busy": "2025-10-29T02:18:32.477196Z",
     "iopub.status.idle": "2025-10-29T02:18:32.483397Z",
     "shell.execute_reply": "2025-10-29T02:18:32.482647Z",
     "shell.execute_reply.started": "2025-10-29T02:18:32.477735Z"
    }
   },
   "outputs": [],
   "source": [
    "# Handles search and re-ranking operations\n",
    "\n",
    "def search(query: str, n_results: int = 10, use_cache: bool = True) -> Dict[str, Any]:\n",
    "        \"\"\"\n",
    "        Search ChromaDB with caching\n",
    "        \n",
    "        Args:\n",
    "            query: Search query\n",
    "            n_results: Number of results to retrieve\n",
    "            use_cache: Whether to use cache\n",
    "            \n",
    "        Returns:\n",
    "            Dictionary with search results\n",
    "        \"\"\"\n",
    "        # Check cache first\n",
    "        if use_cache:\n",
    "            cached_results = get_cache_collection(query, n_results)\n",
    "            if cached_results is not None:\n",
    "                return cached_results\n",
    "        \n",
    "        # Perform search\n",
    "        print(f\"\\nSearching for: '{query}'\")\n",
    "        results = collection.query(\n",
    "            query_texts=[query],\n",
    "            n_results=n_results\n",
    "        )\n",
    "        \n",
    "        # Format results\n",
    "        formatted_results = {\n",
    "            'query': query,\n",
    "            'n_results': n_results,\n",
    "            'ids': results['ids'][0],\n",
    "            'documents': results['documents'][0],\n",
    "            'metadatas': results['metadatas'][0],\n",
    "            'distances': results['distances'][0]\n",
    "        }\n",
    "        \n",
    "        # Cache results\n",
    "        if use_cache:\n",
    "            set_cache_collection(query, n_results, formatted_results)\n",
    "        \n",
    "        return formatted_results"
   ]
  },
  {
   "cell_type": "code",
   "execution_count": 28,
   "metadata": {
    "execution": {
     "iopub.execute_input": "2025-10-29T02:18:37.477290Z",
     "iopub.status.busy": "2025-10-29T02:18:37.477006Z",
     "iopub.status.idle": "2025-10-29T02:18:37.483388Z",
     "shell.execute_reply": "2025-10-29T02:18:37.482685Z",
     "shell.execute_reply.started": "2025-10-29T02:18:37.477268Z"
    }
   },
   "outputs": [],
   "source": [
    "def rerank_results(query: str, search_results: Dict[str, Any], top_k: int = 3) -> List[Dict[str, Any]]:\n",
    "    \"\"\"\n",
    "    Re-rank search results using cross-encoder\n",
    "    \n",
    "    Args:\n",
    "        query: Original search query\n",
    "        search_results: Results from vector search\n",
    "        top_k: Number of top results to return after re-ranking\n",
    "        \n",
    "    Returns:\n",
    "        List of re-ranked results with scores\n",
    "    \"\"\"\n",
    "    documents = search_results['documents']\n",
    "    metadatas = search_results['metadatas']\n",
    "    ids = search_results['ids']\n",
    "    \n",
    "    # Create query-document pairs\n",
    "    pairs = [(query, doc) for doc in documents]\n",
    "    \n",
    "    # Get cross-encoder scores\n",
    "    print(f\"Re-ranking {len(documents)} results...\")\n",
    "    scores = cross_encoder.predict(pairs)\n",
    "    \n",
    "    # Sort by score (descending)\n",
    "    ranked_indices = np.argsort(scores)[::-1]\n",
    "        \n",
    "    # Get top_k results\n",
    "    reranked_results = []\n",
    "    for idx in ranked_indices[:top_k]:\n",
    "        reranked_results.append({\n",
    "            'rank': len(reranked_results) + 1,\n",
    "            'chunk_id': ids[idx],\n",
    "            'document': documents[idx],\n",
    "            'metadata': metadatas[idx],\n",
    "            'rerank_score': float(scores[idx]),\n",
    "            'original_distance': search_results['distances'][idx]\n",
    "        })\n",
    "    \n",
    "    return reranked_results"
   ]
  },
  {
   "cell_type": "code",
   "execution_count": 29,
   "metadata": {
    "execution": {
     "iopub.execute_input": "2025-10-29T02:18:41.938725Z",
     "iopub.status.busy": "2025-10-29T02:18:41.938447Z",
     "iopub.status.idle": "2025-10-29T02:18:41.943767Z",
     "shell.execute_reply": "2025-10-29T02:18:41.942914Z",
     "shell.execute_reply.started": "2025-10-29T02:18:41.938705Z"
    }
   },
   "outputs": [],
   "source": [
    "def search_products(query: str, retrieve_n: int = 10, top_k: int = 3, \n",
    "                      use_cache: bool = True) -> Tuple[Dict[str, Any], List[Dict[str, Any]]]:\n",
    "    \"\"\"\n",
    "    Complete search pipeline: retrieve -> re-rank\n",
    "    \n",
    "    Args:\n",
    "        query: Search query\n",
    "        retrieve_n: Number of results to retrieve initially\n",
    "        top_k: Number of top results after re-ranking\n",
    "        use_cache: Whether to use cache\n",
    "        \n",
    "    Returns:\n",
    "        Tuple of (search_results, reranked_results)\n",
    "    \"\"\"\n",
    "    # Step 1: Vector search\n",
    "    search_results = search(query, n_results=retrieve_n, use_cache=use_cache)\n",
    "    \n",
    "    # Step 2: Re-rank\n",
    "    reranked_results = rerank_results(query, search_results, top_k=top_k)\n",
    "    \n",
    "    return search_results, reranked_results"
   ]
  },
  {
   "cell_type": "markdown",
   "metadata": {},
   "source": [
    "## Layer 3: The Generation Layer (LLM Simulation)\n",
    "### Retrieval Augmented Generation\n",
    "Now that we have the final top search results, we can pass it to an GPT 3.5 along with the user query and a well-engineered prompt, to generate a direct answer to the query for product recommendations."
   ]
  },
  {
   "cell_type": "code",
   "execution_count": 30,
   "metadata": {
    "execution": {
     "iopub.execute_input": "2025-10-29T02:18:47.241460Z",
     "iopub.status.busy": "2025-10-29T02:18:47.240585Z",
     "iopub.status.idle": "2025-10-29T02:18:47.248507Z",
     "shell.execute_reply": "2025-10-29T02:18:47.247606Z",
     "shell.execute_reply.started": "2025-10-29T02:18:47.241433Z"
    }
   },
   "outputs": [],
   "source": [
    "# Handles LLM-based generation for product recommendations\n",
    "def create_recommendation_prompt(query: str, products: List[Dict[str, Any]], \n",
    "                                include_examples: bool = True) -> str:\n",
    "    \"\"\"\n",
    "    Create comprehensive prompt for product recommendation\n",
    "    \n",
    "    Args:\n",
    "        query: User's search query\n",
    "        products: List of re-ranked product results\n",
    "        include_examples: Whether to include few-shot examples\n",
    "        \n",
    "    Returns:\n",
    "        Complete prompt string\n",
    "    \"\"\"\n",
    "    \n",
    "    # Few-shot examples (optional)\n",
    "    few_shot_examples = \"\"\n",
    "    if include_examples:\n",
    "        few_shot_examples = \"\"\"\n",
    "## Examples:\n",
    "\n",
    "**Query:** \"I need a formal black dress for office wear\"\n",
    "**Recommendation:**\n",
    "Based on your search for formal black office wear, I recommend:\n",
    "\n",
    "1. **Professional Black A-Line Dress by Van Heusen** (₹2,499)\n",
    "   - Perfect for office settings with its sophisticated A-line silhouette\n",
    "   - Features a classic mandarin collar and three-quarter sleeves\n",
    "   - Made from comfortable cotton blend material\n",
    "   - Rating: 4.3/5 (highly rated by professionals)\n",
    "   - Ideal for: Daily office wear, business meetings, formal presentations\n",
    "\n",
    "2. **Elegant Black Sheath Dress by Allen Solly** (₹3,199)\n",
    "   - Timeless sheath design that flatters all body types\n",
    "   - Knee-length with comfortable stretch fabric\n",
    "   - Easy to style with blazers or statement jewelry\n",
    "   - Rating: 4.5/5 (customer favorite)\n",
    "   - Ideal for: Corporate events, client meetings, office parties\n",
    "\n",
    "These options combine professionalism with comfort and style, perfect for your office wardrobe.\n",
    "\n",
    "---\n",
    "\n",
    "**Query:** \"Summer cotton kurta under 2000\"\n",
    "**Recommendation:**\n",
    "Great choice for comfortable summer wear! Here are my top picks under ₹2,000:\n",
    "\n",
    "1. **Lightweight Cotton Kurta by Libas** (₹1,299)\n",
    "   - 100% breathable cotton perfect for hot weather\n",
    "   - Beautiful floral print in vibrant colors\n",
    "   - Straight cut with comfortable fit\n",
    "   - Rating: 4.4/5 (loved for comfort)\n",
    "   - Ideal for: Casual outings, work from home, everyday wear\n",
    "\n",
    "2. **Printed Cotton Anarkali by Sangria** (₹1,799)\n",
    "   - Airy Anarkali style with flared bottom\n",
    "   - Soft cotton fabric with ethnic prints\n",
    "   - Comes with matching dupatta\n",
    "   - Rating: 4.2/5\n",
    "   - Ideal for: Festive occasions, casual parties, shopping trips\n",
    "\n",
    "Both options offer excellent value and will keep you cool and stylish all summer!\n",
    "\n",
    "---\n",
    "\"\"\"\n",
    "        \n",
    "        # Build product context\n",
    "        product_context = \"\\n\\n\".join([\n",
    "            f\"\"\"**Product {i+1}:**\n",
    "- Name: {p['metadata']['name']}\n",
    "- Brand: {p['metadata']['brand']}\n",
    "- Price: ₹{p['metadata']['price']}\n",
    "- Color: {p['metadata']['colour']}\n",
    "- Type: {p['metadata']['products']}\n",
    "- Rating: {p['metadata']['rating']}/5\n",
    "- Full Description: {p['document']}\n",
    "- Relevance Score: {p['rerank_score']:.4f}\"\"\"\n",
    "            for i, p in enumerate(products)\n",
    "        ])\n",
    "        \n",
    "        prompt = f\"\"\"You are an expert fashion consultant and personal stylist working for Myntra, India's leading fashion e-commerce platform. Your role is to provide thoughtful, personalized product recommendations based on customer queries.\n",
    "\n",
    "## Instructions:\n",
    "\n",
    "1. **Analyze the Query**: Understand the customer's specific needs, preferences, and context\n",
    "2. **Review Products**: Carefully examine the top-ranked products provided below\n",
    "3. **Provide Recommendations**: Write a comprehensive, friendly recommendation that includes:\n",
    "   - A warm, personalized introduction addressing their needs\n",
    "   - Detailed recommendations for each product (2-3 products)\n",
    "   - Specific reasons why each product suits their query\n",
    "   - Practical styling tips or use-case suggestions\n",
    "   - Price-value analysis when relevant\n",
    "   - Any important considerations (size, fit, care instructions)\n",
    "\n",
    "4. **Tone & Style**:\n",
    "   - Be conversational yet professional\n",
    "   - Show genuine enthusiasm for fashion\n",
    "   - Use second person (\"you\", \"your\") to make it personal\n",
    "   - Be specific and actionable, not generic\n",
    "   - Highlight unique features and benefits\n",
    "\n",
    "5. **Format**:\n",
    "   - Use clear sections with headings\n",
    "   - Use bullet points for easy scanning\n",
    "   - Include emojis sparingly for visual appeal (optional)\n",
    "   - Keep each product recommendation detailed but concise\n",
    "\n",
    "{few_shot_examples}\n",
    "\n",
    "## Customer Query:\n",
    "\"{query}\"\n",
    "\n",
    "## Top Matching Products:\n",
    "{product_context}\n",
    "\n",
    "## Your Recommendation:\n",
    "\"\"\"\n",
    "        \n",
    "    return prompt"
   ]
  },
  {
   "cell_type": "code",
   "execution_count": 31,
   "metadata": {
    "execution": {
     "iopub.execute_input": "2025-10-29T02:18:54.167450Z",
     "iopub.status.busy": "2025-10-29T02:18:54.167180Z",
     "iopub.status.idle": "2025-10-29T02:18:54.172518Z",
     "shell.execute_reply": "2025-10-29T02:18:54.171747Z",
     "shell.execute_reply.started": "2025-10-29T02:18:54.167429Z"
    }
   },
   "outputs": [],
   "source": [
    "def generate_recommendation(query: str, reranked_products: List[Dict[str, Any]], \n",
    "                            temperature: float = 0.7, max_tokens: int = 1000) -> str:\n",
    "    \"\"\"\n",
    "    Generate product recommendation using GPT\n",
    "    \n",
    "    Args:\n",
    "        query: User's search query\n",
    "        reranked_products: Top products after re-ranking\n",
    "        temperature: Generation temperature (0-1)\n",
    "        max_tokens: Maximum tokens to generate\n",
    "        \n",
    "    Returns:\n",
    "        Generated recommendation text\n",
    "    \"\"\"\n",
    "    prompt = create_recommendation_prompt(query, reranked_products)\n",
    "    \n",
    "    print(f\"\\nGenerating recommendation with {LLM_MODEL_NAME}...\")\n",
    "\n",
    "    client = OpenAI(api_key=OPENAI_API_KEY)\n",
    "    response = client.chat.completions.create(\n",
    "        model=LLM_MODEL_NAME,\n",
    "        messages=[\n",
    "            {\"role\": \"system\", \"content\": \"You are an expert fashion consultant providing personalized product recommendations.\"},\n",
    "            {\"role\": \"user\", \"content\": prompt}\n",
    "        ],\n",
    "        temperature=temperature,\n",
    "        max_tokens=max_tokens\n",
    "    )\n",
    "        \n",
    "    recommendation = response.choices[0].message.content\n",
    "        \n",
    "    return recommendation"
   ]
  },
  {
   "cell_type": "code",
   "execution_count": 32,
   "metadata": {
    "execution": {
     "iopub.execute_input": "2025-10-29T02:19:04.542703Z",
     "iopub.status.busy": "2025-10-29T02:19:04.542010Z",
     "iopub.status.idle": "2025-10-29T02:19:04.547552Z",
     "shell.execute_reply": "2025-10-29T02:19:04.546732Z",
     "shell.execute_reply.started": "2025-10-29T02:19:04.542677Z"
    }
   },
   "outputs": [],
   "source": [
    "def complete_pipeline(query: str, retrieve_n: int = 10, top_k: int = 3) -> dict:\n",
    "    \"\"\"\n",
    "    Run complete search and recommendation pipeline\n",
    "    \n",
    "    Returns:\n",
    "        Dictionary containing all results\n",
    "    \"\"\"\n",
    "    print(\"\\n\" + \"=\" * 60)\n",
    "    print(f\"QUERY: {query}\")\n",
    "    print(\"=\" * 60)\n",
    "    \n",
    "    # Search and re-rank\n",
    "    search_results, reranked_results = search_products(\n",
    "        query=query,\n",
    "        retrieve_n=retrieve_n,\n",
    "        top_k=top_k\n",
    "    )\n",
    "    \n",
    "    # Generate recommendation\n",
    "    recommendation = generate_recommendation(query, reranked_results)\n",
    "    \n",
    "    return {\n",
    "        'query': query,\n",
    "        'initial_results_count': len(search_results['documents']),\n",
    "        'top_k_results': reranked_results,\n",
    "        'recommendation': recommendation\n",
    "    }"
   ]
  },
  {
   "cell_type": "code",
   "execution_count": 33,
   "metadata": {
    "execution": {
     "iopub.execute_input": "2025-10-29T02:19:22.233066Z",
     "iopub.status.busy": "2025-10-29T02:19:22.232496Z",
     "iopub.status.idle": "2025-10-29T02:19:22.238349Z",
     "shell.execute_reply": "2025-10-29T02:19:22.237535Z",
     "shell.execute_reply.started": "2025-10-29T02:19:22.233042Z"
    }
   },
   "outputs": [],
   "source": [
    "def display_results(results: dict) -> None:\n",
    "    \"\"\"Display results in a formatted way\"\"\"\n",
    "    print(\"\\n\" + \"=\" * 60)\n",
    "    print(\"TOP RETRIEVED CHUNKS (After Re-ranking)\")\n",
    "    print(\"=\" * 60)\n",
    "    \n",
    "    for result in results['top_k_results']:\n",
    "        print(f\"\\n[Rank {result['rank']}] Score: {result['rerank_score']:.4f}\")\n",
    "        print(f\"Product: {result['metadata']['name']}\")\n",
    "        print(f\"Brand: {result['metadata']['brand']}\")\n",
    "        print(f\"Price: ₹{result['metadata']['price']}\")\n",
    "        print(f\"Color: {result['metadata']['colour']}\")\n",
    "        print(f\"Rating: {result['metadata']['rating']}/5\")\n",
    "        print(f\"Description: {result['document']}\")\n",
    "        print(\"-\" * 60)\n",
    "    \n",
    "    print(\"\\n\" + \"=\" * 60)\n",
    "    print(\"LLM GENERATED RECOMMENDATION\")\n",
    "    print(\"=\" * 60)\n",
    "    print(results['recommendation'])\n",
    "    print(\"=\" * 60)"
   ]
  },
  {
   "cell_type": "code",
   "execution_count": 34,
   "metadata": {
    "execution": {
     "iopub.execute_input": "2025-10-29T02:19:28.896220Z",
     "iopub.status.busy": "2025-10-29T02:19:28.895924Z",
     "iopub.status.idle": "2025-10-29T02:19:46.213189Z",
     "shell.execute_reply": "2025-10-29T02:19:46.212506Z",
     "shell.execute_reply.started": "2025-10-29T02:19:28.896198Z"
    }
   },
   "outputs": [
    {
     "name": "stdout",
     "output_type": "stream",
     "text": [
      "\n",
      "============================================================\n",
      "QUERY: Black ethnic kurta with palazzo for women under 6000\n",
      "============================================================\n",
      "\n",
      "Searching for: 'Black ethnic kurta with palazzo for women under 6000'\n",
      "Re-ranking 10 results...\n"
     ]
    },
    {
     "data": {
      "application/vnd.jupyter.widget-view+json": {
       "model_id": "60a941c7e35a43db806bc6c762489d4c",
       "version_major": 2,
       "version_minor": 0
      },
      "text/plain": [
       "Batches:   0%|          | 0/1 [00:00<?, ?it/s]"
      ]
     },
     "metadata": {},
     "output_type": "display_data"
    },
    {
     "name": "stdout",
     "output_type": "stream",
     "text": [
      "\n",
      "Generating recommendation with gpt-3.5-turbo...\n",
      "\n",
      "============================================================\n",
      "TOP RETRIEVED CHUNKS (After Re-ranking)\n",
      "============================================================\n",
      "\n",
      "[Rank 1] Score: 5.4974\n",
      "Product: Khushal K Women Black Ethnic Motifs Printed Kurta with Palazzos & With Dupatta\n",
      "Brand: Khushal K\n",
      "Price: ₹5099.0\n",
      "Color: Black\n",
      "Rating: 4.4183989385227775/5\n",
      "Description: Product: Khushal K Women Black Ethnic Motifs Printed Kurta with Palazzos & With Dupatta | Brand: Khushal K | Price: ₹5099.0 | Color: Black | Type: Kurta, Palazzos, Dupatta | Rating: 4.4/5 (4522 reviews) | Description: Black printed Kurta with Palazzos with dupatta Kurta design: Ethnic motifs printed Anarkali shape Regular style Mandarin collar, three-quarter regular sleeves Calf length with flared hem Viscose rayon machine weave fabric Palazzos design: Printed Palazzos Elasticated waistband Slip-on closure Dupatta Length 2.43 meters Width: 88 cmThe model (height 5'8) is wearing a size S100% RayonMachine wash\n",
      "------------------------------------------------------------\n",
      "\n",
      "[Rank 2] Score: 5.3453\n",
      "Product: Anouk Women Black Ethnic Motifs Printed Pure Cotton Kurta with Palazzos\n",
      "Brand: Anouk\n",
      "Price: ₹1599.0\n",
      "Color: Black\n",
      "Rating: 3.6859504132231407/5\n",
      "Description: Product: Anouk Women Black Ethnic Motifs Printed Pure Cotton Kurta with Palazzos | Brand: Anouk | Price: ₹1599.0 | Color: Black | Type: Kurta, Palazzos | Rating: 3.7/5 (363 reviews) | Description: Black printed Kurta with Palazzos Kurta design: Ethnic motifs printed Straight shape Regular style Round neck, three-quarter regular sleeves Calf length with straight hem Pure cotton machine weave fabric Palazzos design: Solid Palazzos Partially elasticated waistband Slip-on closure The model (height 5'8) is wearing a size STop fabric: Pure Cotton Bottom fabric: Pure Cotton Machine wash\n",
      "------------------------------------------------------------\n",
      "\n",
      "[Rank 3] Score: 5.3328\n",
      "Product: Prakhya Women Black Ethnic Motifs Printed Kurta with Palazzos & Dupatta\n",
      "Brand: Prakhya\n",
      "Price: ₹3498.0\n",
      "Color: Black\n",
      "Rating: 4.481481481481482/5\n",
      "Description: Product: Prakhya Women Black Ethnic Motifs Printed Kurta with Palazzos & Dupatta | Brand: Prakhya | Price: ₹3498.0 | Color: Black | Type: Kurta, Palazzos, Dupatta | Rating: 4.5/5 (27 reviews) | Description: Black printed Kurta with Palazzos & dupattaKurta design: Ethnic motifs printedA-line shapeRegular styleRound neck, three-quarter regular sleevesCalf length with flared hemViscose rayon knitted fabricPalazzos design: Printed PalazzosElasticated waistbandSlip-on closureDupatta Design:Printed dupattaPrinted border with gotta patti detailTop fabric: Viscose Rayon Bottom fabric: Viscose Rayon Dupatta fabric: Pure Cotton Hand washThe model (height 5'8) is wearing a size S\n",
      "------------------------------------------------------------\n",
      "\n",
      "============================================================\n",
      "LLM GENERATED RECOMMENDATION\n",
      "============================================================\n",
      "Great choice on looking for a black ethnic kurta with palazzo set for women under 6000! I've reviewed the top matching products and have some fantastic recommendations for you:\n",
      "\n",
      "### 1. **Khushal K Women Black Ethnic Motifs Printed Kurta with Palazzos & Dupatta**\n",
      "- **Price: ₹5099.0**\n",
      "- **Rating: 4.4/5**\n",
      "\n",
      "This set by Khushal K is a wonderful choice for a sophisticated ethnic look:\n",
      "- The ethnic motifs printed Kurta in an Anarkali shape exudes elegance and style.\n",
      "- Features a mandarin collar, three-quarter regular sleeves, and a calf-length flared hem for a flattering silhouette.\n",
      "- The viscose rayon fabric ensures comfort and easy care.\n",
      "- The printed Palazzos with an elasticated waistband offer a comfortable fit and easy movement.\n",
      "- Complete the look with the beautifully coordinated dupatta for a cohesive ensemble.\n",
      "\n",
      "### 2. **Prakhya Women Black Ethnic Motifs Printed Kurta with Palazzos & Dupatta**\n",
      "- **Price: ₹3498.0**\n",
      "- **Rating: 4.5/5**\n",
      "\n",
      "For a blend of style and comfort, consider this set from Prakhya:\n",
      "- The A-line Kurta with ethnic motifs printed design is perfect for a traditional yet chic look.\n",
      "- Features a round neck, three-quarter regular sleeves, and a calf-length flared hem for a modern touch.\n",
      "- Made from viscose rayon knitted fabric, this set offers both style and comfort.\n",
      "- The printed Palazzos with elasticated waistband ensure a comfortable fit and ease of movement.\n",
      "- The set includes a printed dupatta with gotta patti detail for added elegance.\n",
      "\n",
      "### Styling Tips:\n",
      "- Pair these sets with statement earrings or juttis for a complete ethnic look.\n",
      "- Opt for minimalistic makeup and a sleek hairstyle to let the outfit shine.\n",
      "- Consider accessorizing with a clutch or potli bag to elevate your ensemble.\n",
      "\n",
      "### Considerations:\n",
      "- Ensure to check the size chart provided by each brand for the perfect fit.\n",
      "- Follow the care instructions provided, especially for delicate fabrics like viscose rayon.\n",
      "\n",
      "Both of these sets offer a perfect blend of style, comfort, and elegance, making them ideal choices for your ethnic wear collection. Enjoy showcasing your traditional flair with these stunning ensembles!\n",
      "============================================================\n",
      "\n",
      "\n",
      "\n",
      "\n",
      "============================================================\n",
      "QUERY: Formal office wear dress with good rating\n",
      "============================================================\n",
      "\n",
      "Searching for: 'Formal office wear dress with good rating'\n",
      "Re-ranking 10 results...\n"
     ]
    },
    {
     "data": {
      "application/vnd.jupyter.widget-view+json": {
       "model_id": "166db975a39a471283976c684e90bcd8",
       "version_major": 2,
       "version_minor": 0
      },
      "text/plain": [
       "Batches:   0%|          | 0/1 [00:00<?, ?it/s]"
      ]
     },
     "metadata": {},
     "output_type": "display_data"
    },
    {
     "name": "stdout",
     "output_type": "stream",
     "text": [
      "\n",
      "Generating recommendation with gpt-3.5-turbo...\n",
      "\n",
      "============================================================\n",
      "TOP RETRIEVED CHUNKS (After Re-ranking)\n",
      "============================================================\n",
      "\n",
      "[Rank 1] Score: -3.4164\n",
      "Product: MANGO Women Beige SARAH Regular-Fit Double-Breasted Formal Blazer\n",
      "Brand: MANGO\n",
      "Price: ₹8990.0\n",
      "Color: Beige\n",
      "Rating: 4.4/5\n",
      "Description: Product: MANGO Women Beige SARAH Regular-Fit Double-Breasted Formal Blazer | Brand: MANGO | Price: ₹8990.0 | Color: Beige | Type: Blazer, Formal | Rating: 4.4/5 (10 reviews) | Description: Beige solid formal blazer, has a notched lapel collar, long sleeves, double-breasted with button closure, two pocketsRegular FitThe model (height 5'8\") is wearing a size SFabric: 50% Polyester, 30% Viscose, 19% Wool, 1% Elastane Lining: 50% Polyester, 50% Viscose Piping: 50% Polyester, 50% ViscoseDry Clean\n",
      "------------------------------------------------------------\n",
      "\n",
      "[Rank 2] Score: -3.6286\n",
      "Product: MANGO Women Brown Checked GALATA Regular-Fit Double-Breasted Formal Blazer\n",
      "Brand: MANGO\n",
      "Price: ₹7990.0\n",
      "Color: Brown\n",
      "Rating: 4.444444444444445/5\n",
      "Description: Product: MANGO Women Brown Checked GALATA Regular-Fit Double-Breasted Formal Blazer | Brand: MANGO | Price: ₹7990.0 | Color: Brown | Type: Blazer, Formal | Rating: 4.4/5 (9 reviews) | Description: Brown checked regular-fit formal blazer, has a notched lapel collar, long sleeves, double-breasted with button closure, three pocketsRegular-fitThe model (height 5'8\") is wearing size SFabric: 62% Polyester,33% Viscose,5% ElastaneLining: 50% Polyester,50% ViscoseSleeve Lining 50% Polyester,50% ViscoseDry Clean\n",
      "------------------------------------------------------------\n",
      "\n",
      "[Rank 3] Score: -3.8086\n",
      "Product: Shaftesbury London Women Maroon Solid Single-Breasted Formal Blazer\n",
      "Brand: Shaftesbury London\n",
      "Price: ₹7999.0\n",
      "Color: Maroon\n",
      "Rating: 0.0/5\n",
      "Description: Product: Shaftesbury London Women Maroon Solid Single-Breasted Formal Blazer | Brand: Shaftesbury London | Price: ₹7999.0 | Color: Maroon | Type: Blazer, Formal | Rating: 0.0/5 (0 reviews) | Description: Maroon solid slim-fit formal blazer, has a notched lapel collar, long sleeves, full button placket, two pockets, and a pocket attached to its lining, and a straight hemCotton BlendDry Clean onlySlim FitThe model (height 5'8\") is wearing a size XS\n",
      "------------------------------------------------------------\n",
      "\n",
      "============================================================\n",
      "LLM GENERATED RECOMMENDATION\n",
      "============================================================\n",
      "**Customer Query:** \"Formal office wear dress with good rating\"\n",
      "\n",
      "Based on your search for a formal office wear dress with a good rating, I've curated some top recommendations for you. Let's elevate your work wardrobe with these stylish options:\n",
      "\n",
      "### 1. **MANGO Women Beige SARAH Regular-Fit Double-Breasted Formal Blazer**\n",
      "   - **Price:** ₹8990.0\n",
      "   - **Color:** Beige\n",
      "   - **Rating:** 4.4/5\n",
      "   - **Description:** This beige formal blazer by MANGO exudes sophistication and professionalism. The double-breasted design and notched lapel collar add a touch of elegance to your office look.\n",
      "   - **Fabric:** Made from a blend of polyester, viscose, wool, and elastane for a structured yet comfortable fit.\n",
      "   - **Styling Tip:** Pair this blazer with tailored trousers and a crisp white shirt for a classic office ensemble. You can also dress it down with dark denim for a smart-casual look.\n",
      "\n",
      "### 2. **MANGO Women Brown Checked GALATA Regular-Fit Double-Breasted Formal Blazer**\n",
      "   - **Price:** ₹7990.0\n",
      "   - **Color:** Brown\n",
      "   - **Rating:** 4.4/5\n",
      "   - **Description:** Opt for a more contemporary look with this brown checked formal blazer from MANGO. The checked pattern adds a modern twist to traditional office wear.\n",
      "   - **Fabric:** Crafted from a blend of polyester, viscose, and elastane for a sleek finish and comfortable wear.\n",
      "   - **Styling Tip:** Style this blazer with a tailored skirt or pants in a coordinating solid color for a polished ensemble. Add a statement necklace for a pop of personality.\n",
      "\n",
      "### 3. **Shaftesbury London Women Maroon Solid Single-Breasted Formal Blazer**\n",
      "   - **Price:** ₹7999.0\n",
      "   - **Color:** Maroon\n",
      "   - **Rating:** Not rated yet\n",
      "   - **Description:** Stand out in the boardroom with this maroon solid formal blazer by Shaftesbury London. The slim-fit silhouette and single-breasted design offer a modern take on traditional office attire.\n",
      "   - **Fabric:** Crafted from a cotton blend for a breathable and structured feel.\n",
      "   - **Styling Tip:** Elevate your office look by pairing this maroon blazer with tailored trousers and a silk blouse. Complete the ensemble with pointed-toe heels for a polished finish.\n",
      "\n",
      "These formal blazers not only exude professionalism but also offer versatility in styling for various work settings. Invest in these quality pieces to elevate your office wardrobe effortlessly.\n",
      "============================================================\n",
      "\n",
      "\n",
      "\n",
      "\n",
      "============================================================\n",
      "QUERY: Traditional Indian wedding outfit in red or maroon\n",
      "============================================================\n",
      "\n",
      "Searching for: 'Traditional Indian wedding outfit in red or maroon'\n",
      "Re-ranking 10 results...\n"
     ]
    },
    {
     "data": {
      "application/vnd.jupyter.widget-view+json": {
       "model_id": "cd125ee3a5064defb76aeb937de5af69",
       "version_major": 2,
       "version_minor": 0
      },
      "text/plain": [
       "Batches:   0%|          | 0/1 [00:00<?, ?it/s]"
      ]
     },
     "metadata": {},
     "output_type": "display_data"
    },
    {
     "name": "stdout",
     "output_type": "stream",
     "text": [
      "\n",
      "Generating recommendation with gpt-3.5-turbo...\n",
      "\n",
      "============================================================\n",
      "TOP RETRIEVED CHUNKS (After Re-ranking)\n",
      "============================================================\n",
      "\n",
      "[Rank 1] Score: -0.8735\n",
      "Product: SWAGG INDIA Women Maroon Ethnic Motifs Chikankari Embroidered Kurta with Palazzos\n",
      "Brand: SWAGG INDIA\n",
      "Price: ₹3999.0\n",
      "Color: Maroon\n",
      "Rating: 4.8/5\n",
      "Description: Product: SWAGG INDIA Women Maroon Ethnic Motifs Chikankari Embroidered Kurta with Palazzos | Brand: SWAGG INDIA | Price: ₹3999.0 | Color: Maroon | Type: Kurta, Palazzos | Rating: 4.8/5 (15 reviews) | Description: Maroon embroidered Kurta with PalazzosKurta design: Ethnic motifs Chikankari embroideredStraight shapeRegular styleRound neck, three-quarter regular sleevesSequinned detailKnee length with straight hemPoly georgette machine weave fabricPalazzos design: Solid PalazzosElasticated waistbandSlip-on closure Kurta : Chiffon georgetteBottom: Chiffon georgetteHand-washThe model (height 5'8) is wearing a size M\n",
      "------------------------------------------------------------\n",
      "\n",
      "[Rank 2] Score: -2.0809\n",
      "Product: Vedic Women Maroon Ethnic Motifs Yoke Design Kurta\n",
      "Brand: Vedic\n",
      "Price: ₹1499.0\n",
      "Color: Maroon\n",
      "Rating: 0.0/5\n",
      "Description: Product: Vedic Women Maroon Ethnic Motifs Yoke Design Kurta | Brand: Vedic | Price: ₹1499.0 | Color: Maroon | Type: Kurta | Rating: 0.0/5 (0 reviews) | Description: Colour: maroon Ethnic motifs yoke design Round neck Three-quarter, regular sleeves Straight shape with regular style Sequinned detail Calf length with straight hem Machine weave regular viscose rayon Viscose Rayon Machine Wash The model (height 5'8) is wearing a size S\n",
      "------------------------------------------------------------\n",
      "\n",
      "[Rank 3] Score: -3.5909\n",
      "Product: Fabindia Women Maroon Ethnic Motifs Print Regular Pure Cotton Kurta with Trousers\n",
      "Brand: Fabindia\n",
      "Price: ₹3599.0\n",
      "Color: Maroon\n",
      "Rating: 4.727272727272728/5\n",
      "Description: Product: Fabindia Women Maroon Ethnic Motifs Print Regular Pure Cotton Kurta with Trousers | Brand: Fabindia | Price: ₹3599.0 | Color: Maroon | Type: Kurta, Trousers | Rating: 4.7/5 (11 reviews) | Description: Maroon printed Kurta with TrousersKurta design: Ethnic motifs printedStraight shapeRegular styleRound neckThree-quarter regular sleevesCalf length with straight hemPure cotton machine weave fabricTrousers design: Solid TrousersPartially elasticated waistbandSlip-on closure2 pocketsDisclaimer: This unique fabric has been dyed/ printed using traditional dyeing processes. Some colours may initially transfer when in dry or wet contact with light coloured fabrics or upholstery. This transfer will reduce after a few washes but we recommend that you wash the product separately for the first few washes.The model (height 5'8) is wearing a size STop fabric: Pure CottonBottom fabric: Pure CottonHand-wash\n",
      "------------------------------------------------------------\n",
      "\n",
      "============================================================\n",
      "LLM GENERATED RECOMMENDATION\n",
      "============================================================\n",
      "### Traditional Indian Wedding Outfit in Red or Maroon 🌹\n",
      "\n",
      "For your upcoming traditional Indian wedding event, where you're looking for a stunning outfit in red or maroon, I have handpicked some exquisite options that will make you stand out with grace and elegance:\n",
      "\n",
      "### 1. **SWAGG INDIA Women Maroon Ethnic Motifs Chikankari Embroidered Kurta with Palazzos** (₹3999.0)\n",
      "- **Description:**\n",
      "  - Maroon embroidered Kurta with Palazzos featuring ethnic motifs Chikankari embroidery\n",
      "  - Elegant straight shape with a round neck and three-quarter regular sleeves\n",
      "  - Crafted from Poly georgette fabric for a luxurious feel\n",
      "  - Palazzos designed with an elasticated waistband for comfort\n",
      "\n",
      "- **Why You'll Love It:**\n",
      "  - The intricate Chikankari embroidery adds a touch of traditional charm\n",
      "  - The sequin detailing enhances the overall richness of the outfit\n",
      "  - Perfect combination of style and comfort for a long wedding celebration\n",
      "\n",
      "- **Styling Tips:**\n",
      "  - Pair with statement gold jewelry and embellished sandals for a complete look\n",
      "  - Opt for a sleek bun hairstyle to showcase the beautiful neckline of the Kurta\n",
      "\n",
      "### 2. **Fabindia Women Maroon Ethnic Motifs Print Regular Pure Cotton Kurta with Trousers** (₹3599.0)\n",
      "- **Description:**\n",
      "  - Maroon printed Kurta with Trousers featuring ethnic motifs print\n",
      "  - Classic design with a round neck, three-quarter regular sleeves, and calf-length hem\n",
      "  - Made from pure cotton fabric, ensuring breathability and comfort\n",
      "  - Trousers designed with an elasticated waistband and slip-on closure for ease\n",
      "\n",
      "- **Why You'll Love It:**\n",
      "  - The pure cotton fabric makes it ideal for long ceremonies, keeping you cool\n",
      "  - The ethnic motifs print adds a touch of tradition with a contemporary twist\n",
      "  - Versatile ensemble that can be styled differently for various events\n",
      "\n",
      "- **Styling Tips:**\n",
      "  - Add a contrasting dupatta or traditional jhumkas to enhance the ethnic appeal\n",
      "  - Opt for a bold red lip color to complement the maroon hues of the outfit\n",
      "\n",
      "### Final Thoughts:\n",
      "Both options offer the perfect blend of tradition and style, ensuring you look radiant and feel comfortable throughout the wedding festivities. Embrace the rich colors and intricate details to create a memorable and elegant ensemble for the special occasion. Enjoy your celebrations in style! 🎉\n",
      "============================================================\n",
      "\n",
      "\n",
      "\n"
     ]
    }
   ],
   "source": [
    "# Test queries\n",
    "\n",
    "test_queries = [\n",
    "        \"Black ethnic kurta with palazzo for women under 6000\",\n",
    "        \"Formal office wear dress with good rating\",\n",
    "        \"Traditional Indian wedding outfit in red or maroon\"\n",
    "    ]\n",
    "\n",
    "# Run complete pipeline for each query\n",
    "for query in test_queries:\n",
    "    results = complete_pipeline(query, retrieve_n=10, top_k=3)\n",
    "    display_results(results)\n",
    "    print(\"\\n\\n\")"
   ]
  },
  {
   "cell_type": "code",
   "execution_count": null,
   "metadata": {},
   "outputs": [],
   "source": []
  }
 ],
 "metadata": {
  "kaggle": {
   "accelerator": "nvidiaTeslaT4",
   "dataSources": [
    {
     "datasetId": 3726549,
     "sourceId": 6454164,
     "sourceType": "datasetVersion"
    }
   ],
   "dockerImageVersionId": 31154,
   "isGpuEnabled": true,
   "isInternetEnabled": true,
   "language": "python",
   "sourceType": "notebook"
  },
  "kernelspec": {
   "display_name": "Python 3 (ipykernel)",
   "language": "python",
   "name": "python3"
  },
  "language_info": {
   "codemirror_mode": {
    "name": "ipython",
    "version": 3
   },
   "file_extension": ".py",
   "mimetype": "text/x-python",
   "name": "python",
   "nbconvert_exporter": "python",
   "pygments_lexer": "ipython3",
   "version": "3.12.10"
  }
 },
 "nbformat": 4,
 "nbformat_minor": 4
}
